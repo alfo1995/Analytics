{
 "cells": [
  {
   "cell_type": "markdown",
   "metadata": {},
   "source": [
    "# Neural Network prediction smartphone ratings"
   ]
  },
  {
   "cell_type": "code",
   "execution_count": 1,
   "metadata": {},
   "outputs": [
    {
     "name": "stderr",
     "output_type": "stream",
     "text": [
      "/anaconda/lib/python3.6/site-packages/sklearn/cross_validation.py:41: DeprecationWarning: This module was deprecated in version 0.18 in favor of the model_selection module into which all the refactored classes and functions are moved. Also note that the interface of the new CV iterators are different from that of this module. This module will be removed in 0.20.\n",
      "  \"This module will be removed in 0.20.\", DeprecationWarning)\n"
     ]
    }
   ],
   "source": [
    "import pandas as pd\n",
    "import numpy as np\n",
    "from sklearn.cross_validation import train_test_split"
   ]
  },
  {
   "cell_type": "code",
   "execution_count": 2,
   "metadata": {},
   "outputs": [
    {
     "name": "stderr",
     "output_type": "stream",
     "text": [
      "Using TensorFlow backend.\n"
     ]
    }
   ],
   "source": [
    "from keras.models import Sequential\n",
    "from keras.layers import Dense, Activation\n",
    "from keras.layers import Dense, Dropout\n",
    "from keras.optimizers import Adam"
   ]
  },
  {
   "cell_type": "code",
   "execution_count": 3,
   "metadata": {},
   "outputs": [],
   "source": [
    "data=pd.read_csv('/Users/alfonsodamelio/Desktop/DATA SCIENCE/2°anno/data driven/smartphone_rating.csv')"
   ]
  },
  {
   "cell_type": "code",
   "execution_count": 4,
   "metadata": {},
   "outputs": [],
   "source": [
    "data=data.drop(['Unnamed: 0'],axis=1)\n",
    "data=data.drop(['model_name'],axis=1)\n",
    "data=data.drop(['id'],axis=1)\n",
    "data=data.drop(['smartphone_name'],axis=1)\n",
    "\n",
    "#log\n",
    "data[\"price\"] = np.log(data[\"price\"])\n",
    "data[\"ram\"] = np.log(data[\"ram\"])\n",
    "data[\"pixels_x\"] = np.log(data[\"pixels_x\"])\n",
    "data[\"pixels_y\"] = np.log(data[\"pixels_y\"])\n",
    "data[\"weight\"] = np.log(data[\"weight\"])\n",
    "data[\"storage\"] = np.log(data[\"storage\"])\n",
    "data[\"battery_mah\"] = np.log(data[\"battery_mah\"])\n",
    "#data[\"camera_front_mp\"] = np.log(data[\"camera_front_mp\"])\n",
    "#data[\"camera_rear_mp\"] = np.log(data[\"camera_rear_mp\"])\n",
    "data[\"cpu_cores\"] = np.log(data[\"cpu_cores\"])\n",
    "data[\"screen_size\"] = np.log(data[\"screen_size\"])\n",
    "data[\"release_date\"] = np.log(data[\"release_date\"])\n"
   ]
  },
  {
   "cell_type": "code",
   "execution_count": 5,
   "metadata": {},
   "outputs": [
    {
     "data": {
      "text/html": [
       "<div>\n",
       "<style>\n",
       "    .dataframe thead tr:only-child th {\n",
       "        text-align: right;\n",
       "    }\n",
       "\n",
       "    .dataframe thead th {\n",
       "        text-align: left;\n",
       "    }\n",
       "\n",
       "    .dataframe tbody tr th {\n",
       "        vertical-align: top;\n",
       "    }\n",
       "</style>\n",
       "<table border=\"1\" class=\"dataframe\">\n",
       "  <thead>\n",
       "    <tr style=\"text-align: right;\">\n",
       "      <th></th>\n",
       "      <th>price</th>\n",
       "      <th>dual_sim</th>\n",
       "      <th>battery_removable</th>\n",
       "      <th>ram</th>\n",
       "      <th>pixels_x</th>\n",
       "      <th>pixels_y</th>\n",
       "      <th>sd_card</th>\n",
       "      <th>weight</th>\n",
       "      <th>storage</th>\n",
       "      <th>battery_mah</th>\n",
       "      <th>camera_front_mp</th>\n",
       "      <th>camera_rear_mp</th>\n",
       "      <th>cpu_cores</th>\n",
       "      <th>screen_size</th>\n",
       "      <th>release_date</th>\n",
       "      <th>rating</th>\n",
       "    </tr>\n",
       "  </thead>\n",
       "  <tbody>\n",
       "    <tr>\n",
       "      <th>0</th>\n",
       "      <td>5.552921</td>\n",
       "      <td>0</td>\n",
       "      <td>0</td>\n",
       "      <td>0.000000</td>\n",
       "      <td>6.984716</td>\n",
       "      <td>7.560080</td>\n",
       "      <td>0</td>\n",
       "      <td>1.803359</td>\n",
       "      <td>4.158883</td>\n",
       "      <td>7.977625</td>\n",
       "      <td>1.2</td>\n",
       "      <td>8.0</td>\n",
       "      <td>0.693147</td>\n",
       "      <td>1.704748</td>\n",
       "      <td>7.608250</td>\n",
       "      <td>1.00</td>\n",
       "    </tr>\n",
       "    <tr>\n",
       "      <th>1</th>\n",
       "      <td>6.191851</td>\n",
       "      <td>0</td>\n",
       "      <td>0</td>\n",
       "      <td>2.079442</td>\n",
       "      <td>7.272398</td>\n",
       "      <td>7.847763</td>\n",
       "      <td>2000</td>\n",
       "      <td>1.938742</td>\n",
       "      <td>4.158883</td>\n",
       "      <td>8.294050</td>\n",
       "      <td>8.0</td>\n",
       "      <td>12.0</td>\n",
       "      <td>2.079442</td>\n",
       "      <td>1.740466</td>\n",
       "      <td>7.609821</td>\n",
       "      <td>1.00</td>\n",
       "    </tr>\n",
       "    <tr>\n",
       "      <th>2</th>\n",
       "      <td>5.298067</td>\n",
       "      <td>0</td>\n",
       "      <td>0</td>\n",
       "      <td>1.098612</td>\n",
       "      <td>7.272398</td>\n",
       "      <td>7.272398</td>\n",
       "      <td>128</td>\n",
       "      <td>1.932970</td>\n",
       "      <td>3.465736</td>\n",
       "      <td>8.146130</td>\n",
       "      <td>2.0</td>\n",
       "      <td>13.0</td>\n",
       "      <td>1.386294</td>\n",
       "      <td>1.504077</td>\n",
       "      <td>7.608250</td>\n",
       "      <td>0.99</td>\n",
       "    </tr>\n",
       "    <tr>\n",
       "      <th>3</th>\n",
       "      <td>4.976044</td>\n",
       "      <td>0</td>\n",
       "      <td>1</td>\n",
       "      <td>1.098612</td>\n",
       "      <td>7.272398</td>\n",
       "      <td>7.847763</td>\n",
       "      <td>128</td>\n",
       "      <td>1.826161</td>\n",
       "      <td>3.465736</td>\n",
       "      <td>8.077137</td>\n",
       "      <td>3.7</td>\n",
       "      <td>16.0</td>\n",
       "      <td>2.079442</td>\n",
       "      <td>1.740466</td>\n",
       "      <td>7.608250</td>\n",
       "      <td>0.99</td>\n",
       "    </tr>\n",
       "    <tr>\n",
       "      <th>4</th>\n",
       "      <td>4.866765</td>\n",
       "      <td>1</td>\n",
       "      <td>1</td>\n",
       "      <td>0.000000</td>\n",
       "      <td>6.291569</td>\n",
       "      <td>6.866933</td>\n",
       "      <td>64</td>\n",
       "      <td>1.386294</td>\n",
       "      <td>2.079442</td>\n",
       "      <td>7.863267</td>\n",
       "      <td>5.0</td>\n",
       "      <td>8.0</td>\n",
       "      <td>1.386294</td>\n",
       "      <td>1.609438</td>\n",
       "      <td>7.608250</td>\n",
       "      <td>0.98</td>\n",
       "    </tr>\n",
       "  </tbody>\n",
       "</table>\n",
       "</div>"
      ],
      "text/plain": [
       "      price  dual_sim  battery_removable       ram  pixels_x  pixels_y  \\\n",
       "0  5.552921         0                  0  0.000000  6.984716  7.560080   \n",
       "1  6.191851         0                  0  2.079442  7.272398  7.847763   \n",
       "2  5.298067         0                  0  1.098612  7.272398  7.272398   \n",
       "3  4.976044         0                  1  1.098612  7.272398  7.847763   \n",
       "4  4.866765         1                  1  0.000000  6.291569  6.866933   \n",
       "\n",
       "   sd_card    weight   storage  battery_mah  camera_front_mp  camera_rear_mp  \\\n",
       "0        0  1.803359  4.158883     7.977625              1.2             8.0   \n",
       "1     2000  1.938742  4.158883     8.294050              8.0            12.0   \n",
       "2      128  1.932970  3.465736     8.146130              2.0            13.0   \n",
       "3      128  1.826161  3.465736     8.077137              3.7            16.0   \n",
       "4       64  1.386294  2.079442     7.863267              5.0             8.0   \n",
       "\n",
       "   cpu_cores  screen_size  release_date  rating  \n",
       "0   0.693147     1.704748      7.608250    1.00  \n",
       "1   2.079442     1.740466      7.609821    1.00  \n",
       "2   1.386294     1.504077      7.608250    0.99  \n",
       "3   2.079442     1.740466      7.608250    0.99  \n",
       "4   1.386294     1.609438      7.608250    0.98  "
      ]
     },
     "execution_count": 5,
     "metadata": {},
     "output_type": "execute_result"
    }
   ],
   "source": [
    "data.head()"
   ]
  },
  {
   "cell_type": "code",
   "execution_count": 6,
   "metadata": {},
   "outputs": [],
   "source": [
    "data=pd.get_dummies(data,columns=['dual_sim','battery_removable'],dummy_na=True)"
   ]
  },
  {
   "cell_type": "code",
   "execution_count": 7,
   "metadata": {},
   "outputs": [
    {
     "data": {
      "text/html": [
       "<div>\n",
       "<style>\n",
       "    .dataframe thead tr:only-child th {\n",
       "        text-align: right;\n",
       "    }\n",
       "\n",
       "    .dataframe thead th {\n",
       "        text-align: left;\n",
       "    }\n",
       "\n",
       "    .dataframe tbody tr th {\n",
       "        vertical-align: top;\n",
       "    }\n",
       "</style>\n",
       "<table border=\"1\" class=\"dataframe\">\n",
       "  <thead>\n",
       "    <tr style=\"text-align: right;\">\n",
       "      <th></th>\n",
       "      <th>price</th>\n",
       "      <th>ram</th>\n",
       "      <th>pixels_x</th>\n",
       "      <th>pixels_y</th>\n",
       "      <th>sd_card</th>\n",
       "      <th>weight</th>\n",
       "      <th>storage</th>\n",
       "      <th>battery_mah</th>\n",
       "      <th>camera_front_mp</th>\n",
       "      <th>camera_rear_mp</th>\n",
       "      <th>cpu_cores</th>\n",
       "      <th>screen_size</th>\n",
       "      <th>release_date</th>\n",
       "      <th>rating</th>\n",
       "      <th>dual_sim_0.0</th>\n",
       "      <th>dual_sim_1.0</th>\n",
       "      <th>dual_sim_nan</th>\n",
       "      <th>battery_removable_0.0</th>\n",
       "      <th>battery_removable_1.0</th>\n",
       "      <th>battery_removable_nan</th>\n",
       "    </tr>\n",
       "  </thead>\n",
       "  <tbody>\n",
       "    <tr>\n",
       "      <th>0</th>\n",
       "      <td>5.552921</td>\n",
       "      <td>0.000000</td>\n",
       "      <td>6.984716</td>\n",
       "      <td>7.560080</td>\n",
       "      <td>0</td>\n",
       "      <td>1.803359</td>\n",
       "      <td>4.158883</td>\n",
       "      <td>7.977625</td>\n",
       "      <td>1.2</td>\n",
       "      <td>8.0</td>\n",
       "      <td>0.693147</td>\n",
       "      <td>1.704748</td>\n",
       "      <td>7.608250</td>\n",
       "      <td>1.00</td>\n",
       "      <td>1</td>\n",
       "      <td>0</td>\n",
       "      <td>0</td>\n",
       "      <td>1</td>\n",
       "      <td>0</td>\n",
       "      <td>0</td>\n",
       "    </tr>\n",
       "    <tr>\n",
       "      <th>1</th>\n",
       "      <td>6.191851</td>\n",
       "      <td>2.079442</td>\n",
       "      <td>7.272398</td>\n",
       "      <td>7.847763</td>\n",
       "      <td>2000</td>\n",
       "      <td>1.938742</td>\n",
       "      <td>4.158883</td>\n",
       "      <td>8.294050</td>\n",
       "      <td>8.0</td>\n",
       "      <td>12.0</td>\n",
       "      <td>2.079442</td>\n",
       "      <td>1.740466</td>\n",
       "      <td>7.609821</td>\n",
       "      <td>1.00</td>\n",
       "      <td>1</td>\n",
       "      <td>0</td>\n",
       "      <td>0</td>\n",
       "      <td>1</td>\n",
       "      <td>0</td>\n",
       "      <td>0</td>\n",
       "    </tr>\n",
       "    <tr>\n",
       "      <th>2</th>\n",
       "      <td>5.298067</td>\n",
       "      <td>1.098612</td>\n",
       "      <td>7.272398</td>\n",
       "      <td>7.272398</td>\n",
       "      <td>128</td>\n",
       "      <td>1.932970</td>\n",
       "      <td>3.465736</td>\n",
       "      <td>8.146130</td>\n",
       "      <td>2.0</td>\n",
       "      <td>13.0</td>\n",
       "      <td>1.386294</td>\n",
       "      <td>1.504077</td>\n",
       "      <td>7.608250</td>\n",
       "      <td>0.99</td>\n",
       "      <td>1</td>\n",
       "      <td>0</td>\n",
       "      <td>0</td>\n",
       "      <td>1</td>\n",
       "      <td>0</td>\n",
       "      <td>0</td>\n",
       "    </tr>\n",
       "    <tr>\n",
       "      <th>3</th>\n",
       "      <td>4.976044</td>\n",
       "      <td>1.098612</td>\n",
       "      <td>7.272398</td>\n",
       "      <td>7.847763</td>\n",
       "      <td>128</td>\n",
       "      <td>1.826161</td>\n",
       "      <td>3.465736</td>\n",
       "      <td>8.077137</td>\n",
       "      <td>3.7</td>\n",
       "      <td>16.0</td>\n",
       "      <td>2.079442</td>\n",
       "      <td>1.740466</td>\n",
       "      <td>7.608250</td>\n",
       "      <td>0.99</td>\n",
       "      <td>1</td>\n",
       "      <td>0</td>\n",
       "      <td>0</td>\n",
       "      <td>0</td>\n",
       "      <td>1</td>\n",
       "      <td>0</td>\n",
       "    </tr>\n",
       "    <tr>\n",
       "      <th>4</th>\n",
       "      <td>4.866765</td>\n",
       "      <td>0.000000</td>\n",
       "      <td>6.291569</td>\n",
       "      <td>6.866933</td>\n",
       "      <td>64</td>\n",
       "      <td>1.386294</td>\n",
       "      <td>2.079442</td>\n",
       "      <td>7.863267</td>\n",
       "      <td>5.0</td>\n",
       "      <td>8.0</td>\n",
       "      <td>1.386294</td>\n",
       "      <td>1.609438</td>\n",
       "      <td>7.608250</td>\n",
       "      <td>0.98</td>\n",
       "      <td>0</td>\n",
       "      <td>1</td>\n",
       "      <td>0</td>\n",
       "      <td>0</td>\n",
       "      <td>1</td>\n",
       "      <td>0</td>\n",
       "    </tr>\n",
       "  </tbody>\n",
       "</table>\n",
       "</div>"
      ],
      "text/plain": [
       "      price       ram  pixels_x  pixels_y  sd_card    weight   storage  \\\n",
       "0  5.552921  0.000000  6.984716  7.560080        0  1.803359  4.158883   \n",
       "1  6.191851  2.079442  7.272398  7.847763     2000  1.938742  4.158883   \n",
       "2  5.298067  1.098612  7.272398  7.272398      128  1.932970  3.465736   \n",
       "3  4.976044  1.098612  7.272398  7.847763      128  1.826161  3.465736   \n",
       "4  4.866765  0.000000  6.291569  6.866933       64  1.386294  2.079442   \n",
       "\n",
       "   battery_mah  camera_front_mp  camera_rear_mp  cpu_cores  screen_size  \\\n",
       "0     7.977625              1.2             8.0   0.693147     1.704748   \n",
       "1     8.294050              8.0            12.0   2.079442     1.740466   \n",
       "2     8.146130              2.0            13.0   1.386294     1.504077   \n",
       "3     8.077137              3.7            16.0   2.079442     1.740466   \n",
       "4     7.863267              5.0             8.0   1.386294     1.609438   \n",
       "\n",
       "   release_date  rating  dual_sim_0.0  dual_sim_1.0  dual_sim_nan  \\\n",
       "0      7.608250    1.00             1             0             0   \n",
       "1      7.609821    1.00             1             0             0   \n",
       "2      7.608250    0.99             1             0             0   \n",
       "3      7.608250    0.99             1             0             0   \n",
       "4      7.608250    0.98             0             1             0   \n",
       "\n",
       "   battery_removable_0.0  battery_removable_1.0  battery_removable_nan  \n",
       "0                      1                      0                      0  \n",
       "1                      1                      0                      0  \n",
       "2                      1                      0                      0  \n",
       "3                      0                      1                      0  \n",
       "4                      0                      1                      0  "
      ]
     },
     "execution_count": 7,
     "metadata": {},
     "output_type": "execute_result"
    }
   ],
   "source": [
    "data.head()"
   ]
  },
  {
   "cell_type": "markdown",
   "metadata": {},
   "source": [
    "**Divide $X$ and $y$**"
   ]
  },
  {
   "cell_type": "code",
   "execution_count": 8,
   "metadata": {},
   "outputs": [],
   "source": [
    "X=data.drop(['rating'],axis=1).values\n",
    "y=data['rating'].values"
   ]
  },
  {
   "cell_type": "markdown",
   "metadata": {},
   "source": [
    "**Split in train and test**"
   ]
  },
  {
   "cell_type": "code",
   "execution_count": 9,
   "metadata": {},
   "outputs": [],
   "source": [
    "from sklearn.cross_validation import train_test_split\n",
    "X_train,X_test,y_train,y_test=train_test_split(X,y,test_size = 0.2, random_state = 0)"
   ]
  },
  {
   "cell_type": "code",
   "execution_count": 10,
   "metadata": {},
   "outputs": [],
   "source": [
    "from sklearn.preprocessing import StandardScaler\n",
    "#scale the X coloumns\n",
    "sc_X = StandardScaler()\n",
    "#for the training set we need to fit it, then scale it\n",
    "X_train = sc_X.fit_transform(X_train)\n",
    "X_test = sc_X.transform(X_test)"
   ]
  },
  {
   "cell_type": "code",
   "execution_count": 11,
   "metadata": {},
   "outputs": [
    {
     "data": {
      "text/plain": [
       "(184, 19)"
      ]
     },
     "execution_count": 11,
     "metadata": {},
     "output_type": "execute_result"
    }
   ],
   "source": [
    "X_train.shape"
   ]
  },
  {
   "cell_type": "code",
   "execution_count": 12,
   "metadata": {},
   "outputs": [
    {
     "data": {
      "text/plain": [
       "(46, 19)"
      ]
     },
     "execution_count": 12,
     "metadata": {},
     "output_type": "execute_result"
    }
   ],
   "source": [
    "X_test.shape"
   ]
  },
  {
   "cell_type": "code",
   "execution_count": 13,
   "metadata": {},
   "outputs": [],
   "source": [
    "model = Sequential()\n",
    "model.add(Dense(16,input_dim=X_train.shape[1],activation='relu'))\n",
    "model.add(Dense(16, activation='relu'))\n",
    "model.add(Dropout(0.3))\n",
    "model.add(Dense(16, activation='relu'))\n",
    "\n",
    "\n",
    "\n",
    "model.add(Dense(1, activation='sigmoid'))\n",
    "model.compile(loss='mse', optimizer='rmsprop', metrics=['mse','mae'])\n",
    "\n",
    "history=model.fit(X_train, y_train, epochs=400, batch_size=184,  verbose=0, validation_split=0.2,shuffle=True\n",
    "        )\n",
    "\n",
    "\n",
    "\n"
   ]
  },
  {
   "cell_type": "code",
   "execution_count": 14,
   "metadata": {},
   "outputs": [],
   "source": [
    "y_pred=model.predict(X_test)"
   ]
  },
  {
   "cell_type": "code",
   "execution_count": 15,
   "metadata": {},
   "outputs": [],
   "source": [
    "import pandas as pd\n",
    "from sklearn import linear_model\n",
    "import matplotlib.pyplot as plt\n",
    "import numpy as np\n"
   ]
  },
  {
   "cell_type": "code",
   "execution_count": 16,
   "metadata": {},
   "outputs": [
    {
     "data": {
      "image/png": "[encoded data removed]",
      "text/plain": [
       "<Figure size 432x288 with 1 Axes>"
      ]
     },
     "metadata": {},
     "output_type": "display_data"
    }
   ],
   "source": [
    "\n",
    "plt.plot(range(y_test.shape[0]),y_test,label=\"Original Data\")\n",
    "plt.plot(range(y_test.shape[0]),y_pred,label=\"Predicted Data\")\n",
    "plt.legend(loc='best')\n",
    "plt.show()"
   ]
  },
  {
   "cell_type": "code",
   "execution_count": 17,
   "metadata": {},
   "outputs": [
    {
     "name": "stdout",
     "output_type": "stream",
     "text": [
      "root mean squared error: 0.3092672814016094\n",
      "R-squared: -0.279035026162\n"
     ]
    }
   ],
   "source": [
    "from sklearn.metrics import mean_squared_error,r2_score\n",
    "from math import sqrt\n",
    "\n",
    "rms = sqrt(mean_squared_error(y_test, y_pred))\n",
    "print('root mean squared error: %s'%rms)\n",
    "\n",
    "r_2=r2_score(y_test, y_pred)\n",
    "print('R-squared: %s'%r_2)"
   ]
  },
  {
   "cell_type": "code",
   "execution_count": 18,
   "metadata": {
    "scrolled": true
   },
   "outputs": [
    {
     "data": {
      "image/png": "[encoded data removed]",
      "text/plain": [
       "<Figure size 432x288 with 1 Axes>"
      ]
     },
     "metadata": {},
     "output_type": "display_data"
    }
   ],
   "source": [
    "plt.plot(history.history['loss'])\n",
    "plt.plot(history.history['val_loss'])\n",
    "\n",
    "\n",
    "plt.show()"
   ]
  },
  {
   "cell_type": "markdown",
   "metadata": {},
   "source": [
    "**Ligh Gradient boosting regressor**"
   ]
  },
  {
   "cell_type": "code",
   "execution_count": 19,
   "metadata": {},
   "outputs": [
    {
     "name": "stderr",
     "output_type": "stream",
     "text": [
      "/anaconda/lib/python3.6/site-packages/sklearn/grid_search.py:42: DeprecationWarning: This module was deprecated in version 0.18 in favor of the model_selection module into which all the refactored classes and functions are moved. This module will be removed in 0.20.\n",
      "  DeprecationWarning)\n"
     ]
    }
   ],
   "source": [
    "import lightgbm as lgb\n",
    "from sklearn.grid_search import GridSearchCV\n",
    "model2=lgb.LGBMRegressor(objective='regression',num_leaves=4,\n",
    "                              learning_rate=0.03, n_estimators=30000,max_bin = 50)\n",
    "\n",
    "\n",
    "model2.fit(X_train,y_train)\n",
    "\n",
    "#predict the best model on Test\n",
    "y_pred = model.predict(X_test)\n",
    "#fit model with best alpha got by cross validation model\n"
   ]
  },
  {
   "cell_type": "code",
   "execution_count": 20,
   "metadata": {},
   "outputs": [
    {
     "data": {
      "image/png": "[encoded data removed]",
      "text/plain": [
       "<Figure size 432x288 with 1 Axes>"
      ]
     },
     "metadata": {},
     "output_type": "display_data"
    }
   ],
   "source": [
    "plt.plot(range(y_test.shape[0]),y_test,label=\"Original Data\")\n",
    "plt.plot(range(y_test.shape[0]),y_pred,label=\"Predicted Data\")\n",
    "plt.legend(loc='best')\n",
    "plt.show()"
   ]
  },
  {
   "cell_type": "code",
   "execution_count": 21,
   "metadata": {},
   "outputs": [
    {
     "name": "stdout",
     "output_type": "stream",
     "text": [
      "0.3092672814016094\n"
     ]
    }
   ],
   "source": [
    "rms = sqrt(mean_squared_error(y_test, y_pred))\n",
    "print(rms)"
   ]
  },
  {
   "cell_type": "code",
   "execution_count": null,
   "metadata": {},
   "outputs": [],
   "source": []
  }
 ],
 "metadata": {
  "kernelspec": {
   "display_name": "Python 3",
   "language": "python",
   "name": "python3"
  },
  "language_info": {
   "codemirror_mode": {
    "name": "ipython",
    "version": 3
   },
   "file_extension": ".py",
   "mimetype": "text/x-python",
   "name": "python",
   "nbconvert_exporter": "python",
   "pygments_lexer": "ipython3",
   "version": "3.6.8"
  }
 },
 "nbformat": 4,
 "nbformat_minor": 2
}
