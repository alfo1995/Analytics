{
 "cells": [
  {
   "cell_type": "code",
   "execution_count": 172,
   "metadata": {},
   "outputs": [],
   "source": [
    "##import data\n",
    "import pandas as pd\n",
    "data=pd.read_csv('/Users/alfonsodamelio/Downloads/telekom.csv',delimiter=',')"
   ]
  },
  {
   "cell_type": "code",
   "execution_count": 173,
   "metadata": {},
   "outputs": [],
   "source": [
    "#remove ids\n",
    "data=data.drop(['ID'],axis=1)"
   ]
  },
  {
   "cell_type": "code",
   "execution_count": 174,
   "metadata": {},
   "outputs": [
    {
     "data": {
      "text/plain": [
       "status                   int64\n",
       "piano_tariff             int64\n",
       "metodo_pagamento         int64\n",
       "sesso                    int64\n",
       "etacl                  float64\n",
       "zona_attivaz             int64\n",
       "canale_attivaz           int64\n",
       "vas1                     int64\n",
       "vas2                     int64\n",
       "q01_out_ch_peak          int64\n",
       "q01_out_dur_peak         int64\n",
       "q01_out_val_peak       float64\n",
       "q01_out_dur_offpeak      int64\n",
       "q01_out_val_offpeak    float64\n",
       "q01_in_ch_tot            int64\n",
       "q01_in_dur_tot           int64\n",
       "q01_ch_sms               int64\n",
       "q09_out_ch_peak          int64\n",
       "q09_out_dur_peak         int64\n",
       "q09_out_val_peak       float64\n",
       "q09_out_dur_offpeak      int64\n",
       "q09_out_val_offpeak    float64\n",
       "q09_in_ch_tot            int64\n",
       "q09_in_dur_tot           int64\n",
       "q09_ch_sms               int64\n",
       "dtype: object"
      ]
     },
     "execution_count": 174,
     "metadata": {},
     "output_type": "execute_result"
    }
   ],
   "source": [
    "data.dtypes"
   ]
  },
  {
   "cell_type": "code",
   "execution_count": 175,
   "metadata": {},
   "outputs": [
    {
     "data": {
      "text/plain": [
       "[]"
      ]
     },
     "execution_count": 175,
     "metadata": {},
     "output_type": "execute_result"
    }
   ],
   "source": [
    "#find missing data\n",
    "data.columns[data.isnull().any()].tolist()"
   ]
  },
  {
   "cell_type": "code",
   "execution_count": 176,
   "metadata": {},
   "outputs": [
    {
     "data": {
      "text/html": [
       "<div>\n",
       "<style>\n",
       "    .dataframe thead tr:only-child th {\n",
       "        text-align: right;\n",
       "    }\n",
       "\n",
       "    .dataframe thead th {\n",
       "        text-align: left;\n",
       "    }\n",
       "\n",
       "    .dataframe tbody tr th {\n",
       "        vertical-align: top;\n",
       "    }\n",
       "</style>\n",
       "<table border=\"1\" class=\"dataframe\">\n",
       "  <thead>\n",
       "    <tr style=\"text-align: right;\">\n",
       "      <th></th>\n",
       "      <th>status</th>\n",
       "      <th>piano_tariff</th>\n",
       "      <th>metodo_pagamento</th>\n",
       "      <th>sesso</th>\n",
       "      <th>etacl</th>\n",
       "      <th>zona_attivaz</th>\n",
       "      <th>canale_attivaz</th>\n",
       "      <th>vas1</th>\n",
       "      <th>vas2</th>\n",
       "      <th>q01_out_ch_peak</th>\n",
       "      <th>...</th>\n",
       "      <th>q01_in_dur_tot</th>\n",
       "      <th>q01_ch_sms</th>\n",
       "      <th>q09_out_ch_peak</th>\n",
       "      <th>q09_out_dur_peak</th>\n",
       "      <th>q09_out_val_peak</th>\n",
       "      <th>q09_out_dur_offpeak</th>\n",
       "      <th>q09_out_val_offpeak</th>\n",
       "      <th>q09_in_ch_tot</th>\n",
       "      <th>q09_in_dur_tot</th>\n",
       "      <th>q09_ch_sms</th>\n",
       "    </tr>\n",
       "  </thead>\n",
       "  <tbody>\n",
       "    <tr>\n",
       "      <th>0</th>\n",
       "      <td>0</td>\n",
       "      <td>8</td>\n",
       "      <td>3</td>\n",
       "      <td>3</td>\n",
       "      <td>30.75</td>\n",
       "      <td>3</td>\n",
       "      <td>5</td>\n",
       "      <td>1</td>\n",
       "      <td>1</td>\n",
       "      <td>45</td>\n",
       "      <td>...</td>\n",
       "      <td>2162</td>\n",
       "      <td>0</td>\n",
       "      <td>78</td>\n",
       "      <td>5190</td>\n",
       "      <td>34.6450</td>\n",
       "      <td>0</td>\n",
       "      <td>0.0</td>\n",
       "      <td>123</td>\n",
       "      <td>10715</td>\n",
       "      <td>0</td>\n",
       "    </tr>\n",
       "    <tr>\n",
       "      <th>1</th>\n",
       "      <td>0</td>\n",
       "      <td>8</td>\n",
       "      <td>1</td>\n",
       "      <td>3</td>\n",
       "      <td>20.78</td>\n",
       "      <td>2</td>\n",
       "      <td>5</td>\n",
       "      <td>1</td>\n",
       "      <td>1</td>\n",
       "      <td>0</td>\n",
       "      <td>...</td>\n",
       "      <td>0</td>\n",
       "      <td>0</td>\n",
       "      <td>11</td>\n",
       "      <td>719</td>\n",
       "      <td>4.8191</td>\n",
       "      <td>0</td>\n",
       "      <td>0.0</td>\n",
       "      <td>31</td>\n",
       "      <td>3115</td>\n",
       "      <td>1</td>\n",
       "    </tr>\n",
       "    <tr>\n",
       "      <th>2</th>\n",
       "      <td>0</td>\n",
       "      <td>7</td>\n",
       "      <td>3</td>\n",
       "      <td>3</td>\n",
       "      <td>19.80</td>\n",
       "      <td>1</td>\n",
       "      <td>5</td>\n",
       "      <td>1</td>\n",
       "      <td>1</td>\n",
       "      <td>0</td>\n",
       "      <td>...</td>\n",
       "      <td>0</td>\n",
       "      <td>0</td>\n",
       "      <td>50</td>\n",
       "      <td>2665</td>\n",
       "      <td>14.1168</td>\n",
       "      <td>0</td>\n",
       "      <td>0.0</td>\n",
       "      <td>170</td>\n",
       "      <td>14807</td>\n",
       "      <td>0</td>\n",
       "    </tr>\n",
       "    <tr>\n",
       "      <th>3</th>\n",
       "      <td>0</td>\n",
       "      <td>8</td>\n",
       "      <td>2</td>\n",
       "      <td>3</td>\n",
       "      <td>21.67</td>\n",
       "      <td>1</td>\n",
       "      <td>9</td>\n",
       "      <td>1</td>\n",
       "      <td>1</td>\n",
       "      <td>0</td>\n",
       "      <td>...</td>\n",
       "      <td>0</td>\n",
       "      <td>0</td>\n",
       "      <td>65</td>\n",
       "      <td>7216</td>\n",
       "      <td>43.6824</td>\n",
       "      <td>0</td>\n",
       "      <td>0.0</td>\n",
       "      <td>25</td>\n",
       "      <td>3334</td>\n",
       "      <td>0</td>\n",
       "    </tr>\n",
       "    <tr>\n",
       "      <th>4</th>\n",
       "      <td>0</td>\n",
       "      <td>8</td>\n",
       "      <td>2</td>\n",
       "      <td>1</td>\n",
       "      <td>24.75</td>\n",
       "      <td>1</td>\n",
       "      <td>5</td>\n",
       "      <td>1</td>\n",
       "      <td>1</td>\n",
       "      <td>0</td>\n",
       "      <td>...</td>\n",
       "      <td>0</td>\n",
       "      <td>0</td>\n",
       "      <td>0</td>\n",
       "      <td>0</td>\n",
       "      <td>0.0000</td>\n",
       "      <td>0</td>\n",
       "      <td>0.0</td>\n",
       "      <td>0</td>\n",
       "      <td>0</td>\n",
       "      <td>0</td>\n",
       "    </tr>\n",
       "  </tbody>\n",
       "</table>\n",
       "<p>5 rows × 25 columns</p>\n",
       "</div>"
      ],
      "text/plain": [
       "   status  piano_tariff  metodo_pagamento  sesso  etacl  zona_attivaz  \\\n",
       "0       0             8                 3      3  30.75             3   \n",
       "1       0             8                 1      3  20.78             2   \n",
       "2       0             7                 3      3  19.80             1   \n",
       "3       0             8                 2      3  21.67             1   \n",
       "4       0             8                 2      1  24.75             1   \n",
       "\n",
       "   canale_attivaz  vas1  vas2  q01_out_ch_peak     ...      q01_in_dur_tot  \\\n",
       "0               5     1     1               45     ...                2162   \n",
       "1               5     1     1                0     ...                   0   \n",
       "2               5     1     1                0     ...                   0   \n",
       "3               9     1     1                0     ...                   0   \n",
       "4               5     1     1                0     ...                   0   \n",
       "\n",
       "   q01_ch_sms  q09_out_ch_peak  q09_out_dur_peak  q09_out_val_peak  \\\n",
       "0           0               78              5190           34.6450   \n",
       "1           0               11               719            4.8191   \n",
       "2           0               50              2665           14.1168   \n",
       "3           0               65              7216           43.6824   \n",
       "4           0                0                 0            0.0000   \n",
       "\n",
       "   q09_out_dur_offpeak  q09_out_val_offpeak  q09_in_ch_tot  q09_in_dur_tot  \\\n",
       "0                    0                  0.0            123           10715   \n",
       "1                    0                  0.0             31            3115   \n",
       "2                    0                  0.0            170           14807   \n",
       "3                    0                  0.0             25            3334   \n",
       "4                    0                  0.0              0               0   \n",
       "\n",
       "   q09_ch_sms  \n",
       "0           0  \n",
       "1           1  \n",
       "2           0  \n",
       "3           0  \n",
       "4           0  \n",
       "\n",
       "[5 rows x 25 columns]"
      ]
     },
     "execution_count": 176,
     "metadata": {},
     "output_type": "execute_result"
    }
   ],
   "source": [
    "data.head(5)"
   ]
  },
  {
   "cell_type": "code",
   "execution_count": 177,
   "metadata": {},
   "outputs": [],
   "source": [
    "#separate X,y\n",
    "X=data.drop(['status'],axis=1).values\n",
    "y=data['status'].values"
   ]
  },
  {
   "cell_type": "code",
   "execution_count": 178,
   "metadata": {},
   "outputs": [],
   "source": [
    "from sklearn.preprocessing import LabelEncoder, OneHotEncoder"
   ]
  },
  {
   "cell_type": "code",
   "execution_count": 182,
   "metadata": {},
   "outputs": [],
   "source": [
    "onehotencoder = OneHotEncoder(categorical_features = [0, 1, 2, 4, 5, 6, 7])\n",
    "X = onehotencoder.fit_transform(X).toarray()"
   ]
  },
  {
   "cell_type": "code",
   "execution_count": 183,
   "metadata": {},
   "outputs": [],
   "source": [
    "labelencoder_y = LabelEncoder()\n",
    "y = labelencoder_y.fit_transform(y)"
   ]
  },
  {
   "cell_type": "code",
   "execution_count": 184,
   "metadata": {},
   "outputs": [
    {
     "data": {
      "text/plain": [
       "array([0, 0, 0, ..., 1, 1, 1])"
      ]
     },
     "execution_count": 184,
     "metadata": {},
     "output_type": "execute_result"
    }
   ],
   "source": [
    "y"
   ]
  },
  {
   "cell_type": "code",
   "execution_count": 185,
   "metadata": {},
   "outputs": [
    {
     "data": {
      "text/plain": [
       "array([[  1.00000000e+00,   0.00000000e+00,   1.00000000e+00, ...,\n",
       "          1.23000000e+02,   1.07150000e+04,   0.00000000e+00],\n",
       "       [  1.00000000e+00,   0.00000000e+00,   1.00000000e+00, ...,\n",
       "          3.10000000e+01,   3.11500000e+03,   1.00000000e+00],\n",
       "       [  1.00000000e+00,   0.00000000e+00,   1.00000000e+00, ...,\n",
       "          1.70000000e+02,   1.48070000e+04,   0.00000000e+00],\n",
       "       ..., \n",
       "       [  1.00000000e+00,   0.00000000e+00,   1.00000000e+00, ...,\n",
       "          2.15000000e+02,   2.72570000e+04,   0.00000000e+00],\n",
       "       [  1.00000000e+00,   0.00000000e+00,   1.00000000e+00, ...,\n",
       "          2.23000000e+02,   1.72740000e+04,   0.00000000e+00],\n",
       "       [  1.00000000e+00,   0.00000000e+00,   1.00000000e+00, ...,\n",
       "          4.40000000e+01,   3.64600000e+03,   0.00000000e+00]])"
      ]
     },
     "execution_count": 185,
     "metadata": {},
     "output_type": "execute_result"
    }
   ],
   "source": [
    "X"
   ]
  },
  {
   "cell_type": "code",
   "execution_count": 186,
   "metadata": {},
   "outputs": [],
   "source": [
    "# Splitting the dataset into the Training set and Test set\n",
    "from sklearn.cross_validation import train_test_split, cross_val_score\n",
    "from sklearn.feature_selection import SelectKBest, chi2, f_classif\n",
    "\n",
    "X_train, X_test, y_train, y_test = train_test_split(X, y, test_size = 0.2, random_state = 0)"
   ]
  },
  {
   "cell_type": "code",
   "execution_count": 187,
   "metadata": {},
   "outputs": [],
   "source": [
    "# Feature Scaling\n",
    "from sklearn.preprocessing import StandardScaler\n",
    "#scale the X coloumns\n",
    "sc_X = StandardScaler()\n",
    "#for the training set we need to fit it, then scale it\n",
    "X_train = sc_X.fit_transform(X_train)\n",
    "X_test = sc_X.transform(X_test)"
   ]
  },
  {
   "cell_type": "markdown",
   "metadata": {},
   "source": [
    "**Logistic Regression**"
   ]
  },
  {
   "cell_type": "code",
   "execution_count": 99,
   "metadata": {},
   "outputs": [],
   "source": [
    "###############\n",
    "# Fitting Logistic Regression to the Training set\n",
    "from sklearn.linear_model import LogisticRegression\n",
    "classifier = LogisticRegression(random_state = 0)\n",
    "classifier.fit(X_train, y_train)\n",
    "\n",
    "# Predicting the Test set results\n",
    "y_pred = classifier.predict(X_test)"
   ]
  },
  {
   "cell_type": "code",
   "execution_count": 102,
   "metadata": {},
   "outputs": [
    {
     "name": "stdout",
     "output_type": "stream",
     "text": [
      "[[1043   37]\n",
      " [  46  633]]\n"
     ]
    }
   ],
   "source": [
    "# Making the Confusion Matrix\n",
    "from sklearn.metrics import confusion_matrix\n",
    "cm = confusion_matrix(y_test, y_pred)\n",
    "print(cm)"
   ]
  },
  {
   "cell_type": "code",
   "execution_count": 103,
   "metadata": {},
   "outputs": [
    {
     "data": {
      "text/plain": [
       "0.95281409891984081"
      ]
     },
     "execution_count": 103,
     "metadata": {},
     "output_type": "execute_result"
    }
   ],
   "source": [
    "from sklearn.metrics import accuracy_score\n",
    "accuracy_score(y_test,y_pred)"
   ]
  },
  {
   "cell_type": "markdown",
   "metadata": {},
   "source": [
    "**SVC**"
   ]
  },
  {
   "cell_type": "code",
   "execution_count": 105,
   "metadata": {},
   "outputs": [
    {
     "name": "stdout",
     "output_type": "stream",
     "text": [
      "[[1039   41]\n",
      " [  40  639]]\n"
     ]
    },
    {
     "data": {
      "text/plain": [
       "0.953951108584423"
      ]
     },
     "execution_count": 105,
     "metadata": {},
     "output_type": "execute_result"
    }
   ],
   "source": [
    "from sklearn.svm import SVC\n",
    "#you can choose what type of kernel you want\n",
    "classifier = SVC(kernel = 'linear', random_state = 0)\n",
    "classifier.fit(X_train, y_train)\n",
    "\n",
    "# Predicting the Test set results\n",
    "y_pred = classifier.predict(X_test)\n",
    "\n",
    "# Making the Confusion Matrix\n",
    "from sklearn.metrics import confusion_matrix\n",
    "cm = confusion_matrix(y_test, y_pred)\n",
    "print(cm)\n",
    "\n",
    "from sklearn.metrics import accuracy_score\n",
    "accuracy_score(y_test,y_pred)\n"
   ]
  },
  {
   "cell_type": "markdown",
   "metadata": {},
   "source": [
    "**Gaussian Naive Bayes**"
   ]
  },
  {
   "cell_type": "code",
   "execution_count": 107,
   "metadata": {},
   "outputs": [
    {
     "name": "stdout",
     "output_type": "stream",
     "text": [
      "[[988  92]\n",
      " [245 434]]\n"
     ]
    },
    {
     "data": {
      "text/plain": [
       "0.80841387151790789"
      ]
     },
     "execution_count": 107,
     "metadata": {},
     "output_type": "execute_result"
    }
   ],
   "source": [
    "from sklearn.naive_bayes import GaussianNB\n",
    "classifier = GaussianNB()\n",
    "classifier.fit(X_train, y_train)\n",
    "\n",
    "# Predicting the Test set results\n",
    "y_pred = classifier.predict(X_test)\n",
    "\n",
    "# Making the Confusion Matrix\n",
    "from sklearn.metrics import confusion_matrix\n",
    "cm = confusion_matrix(y_test, y_pred)\n",
    "print(cm)\n",
    "\n",
    "from sklearn.metrics import accuracy_score\n",
    "accuracy_score(y_test,y_pred)\n",
    "\n"
   ]
  },
  {
   "cell_type": "code",
   "execution_count": 110,
   "metadata": {},
   "outputs": [
    {
     "name": "stdout",
     "output_type": "stream",
     "text": [
      "[[1049   31]\n",
      " [  15  664]]\n"
     ]
    },
    {
     "data": {
      "text/plain": [
       "0.97384877771461054"
      ]
     },
     "execution_count": 110,
     "metadata": {},
     "output_type": "execute_result"
    }
   ],
   "source": [
    "from xgboost import XGBClassifier\n",
    "classifier = XGBClassifier()\n",
    "classifier.fit(X_train, y_train)\n",
    "\n",
    "# Predicting the Test set results\n",
    "y_pred = classifier.predict(X_test)\n",
    "\n",
    "from sklearn.metrics import confusion_matrix\n",
    "cm = confusion_matrix(y_test, y_pred)\n",
    "print(cm)\n",
    "\n",
    "from sklearn.metrics import accuracy_score\n",
    "accuracy_score(y_test,y_pred)\n",
    "\n"
   ]
  },
  {
   "cell_type": "code",
   "execution_count": 112,
   "metadata": {},
   "outputs": [
    {
     "name": "stdout",
     "output_type": "stream",
     "text": [
      "[[1057   23]\n",
      " [   9  670]]\n"
     ]
    },
    {
     "data": {
      "text/plain": [
       "0.98180784536668564"
      ]
     },
     "execution_count": 112,
     "metadata": {},
     "output_type": "execute_result"
    }
   ],
   "source": [
    "from sklearn.ensemble import GradientBoostingClassifier\n",
    "classifier = GradientBoostingClassifier(loss=\"deviance\",learning_rate = .5, \n",
    "                                  n_estimators = 1000,max_depth=2,min_samples_leaf=15,min_samples_split=40)\n",
    "#min_samples_leaf=15\n",
    "classifier.fit(X_train, y_train)\n",
    "\n",
    "# Predicting the Test set results\n",
    "y_pred = classifier.predict(X_test)\n",
    "\n",
    "from sklearn.metrics import confusion_matrix\n",
    "cm = confusion_matrix(y_test, y_pred)\n",
    "print(cm)\n",
    "\n",
    "from sklearn.metrics import accuracy_score\n",
    "accuracy_score(y_test,y_pred)"
   ]
  },
  {
   "cell_type": "markdown",
   "metadata": {},
   "source": [
    "**BALANCED DATASET**"
   ]
  },
  {
   "cell_type": "code",
   "execution_count": 196,
   "metadata": {},
   "outputs": [
    {
     "name": "stderr",
     "output_type": "stream",
     "text": [
      "/anaconda/lib/python3.6/site-packages/sklearn/utils/deprecation.py:75: DeprecationWarning: Function _ratio_float is deprecated; Use a float for 'ratio' is deprecated from version 0.2. The support will be removed in 0.4. Use a dict, str, or a callable instead.\n",
      "  warnings.warn(msg, category=DeprecationWarning)\n"
     ]
    }
   ],
   "source": [
    "from imblearn.over_sampling import SMOTE\n",
    "from sklearn.externals.joblib.parallel import _backend\n",
    "\n",
    "sm = SMOTE(random_state=0, ratio = 1.0)\n",
    "X, y = sm.fit_sample(X, y)\n"
   ]
  },
  {
   "cell_type": "code",
   "execution_count": 204,
   "metadata": {},
   "outputs": [],
   "source": [
    "# Splitting the dataset into the Training set and Test set\n",
    "from sklearn.cross_validation import train_test_split\n",
    "X_train, X_test, y_train, y_test = train_test_split(X, y, test_size = 0.2, random_state = 0)\n",
    "\n",
    "# Feature Scaling\n",
    "from sklearn.preprocessing import StandardScaler\n",
    "#scale the X coloumns\n",
    "sc_X = StandardScaler()\n",
    "#for the training set we need to fit it, then scale it\n",
    "X_train = sc_X.fit_transform(X_train)\n",
    "X_test = sc_X.transform(X_test)\n"
   ]
  },
  {
   "cell_type": "markdown",
   "metadata": {},
   "source": [
    "**Logistic Regression**"
   ]
  },
  {
   "cell_type": "code",
   "execution_count": 205,
   "metadata": {},
   "outputs": [
    {
     "name": "stdout",
     "output_type": "stream",
     "text": [
      "[[1008   49]\n",
      " [  31 1089]]\n"
     ]
    },
    {
     "data": {
      "text/plain": [
       "0.96325218190169959"
      ]
     },
     "execution_count": 205,
     "metadata": {},
     "output_type": "execute_result"
    }
   ],
   "source": [
    "\n",
    "\n",
    "###############\n",
    "# Fitting Logistic Regression to the Training set\n",
    "from sklearn.linear_model import LogisticRegression\n",
    "classifier = LogisticRegression(random_state = 0)\n",
    "classifier.fit(X_train, y_train)\n",
    "\n",
    "# Predicting the Test set results\n",
    "y_pred = classifier.predict(X_test)\n",
    "\n",
    "# Making the Confusion Matrix\n",
    "from sklearn.metrics import confusion_matrix\n",
    "cm = confusion_matrix(y_test, y_pred)\n",
    "print(cm)\n",
    "\n",
    "from sklearn.metrics import accuracy_score\n",
    "accuracy_score(y_test,y_pred)"
   ]
  },
  {
   "cell_type": "code",
   "execution_count": 208,
   "metadata": {},
   "outputs": [
    {
     "name": "stdout",
     "output_type": "stream",
     "text": [
      "[[1048    9]\n",
      " [   5 1115]]\n"
     ]
    },
    {
     "data": {
      "text/plain": [
       "0.99356913183279738"
      ]
     },
     "execution_count": 208,
     "metadata": {},
     "output_type": "execute_result"
    }
   ],
   "source": [
    "from sklearn.ensemble import GradientBoostingClassifier\n",
    "classifier = GradientBoostingClassifier(loss=\"deviance\",learning_rate = .5, \n",
    "                                  n_estimators = 1000,max_depth=2,min_samples_leaf=15,min_samples_split=40)\n",
    "#min_samples_leaf=15\n",
    "classifier.fit(X_train, y_train)\n",
    "\n",
    "# Predicting the Test set results\n",
    "y_pred = classifier.predict(X_test)\n",
    "\n",
    "from sklearn.metrics import confusion_matrix\n",
    "cm = confusion_matrix(y_test, y_pred)\n",
    "print(cm)\n",
    "\n",
    "from sklearn.metrics import accuracy_score\n",
    "accuracy_score(y_test,y_pred)"
   ]
  },
  {
   "cell_type": "markdown",
   "metadata": {},
   "source": [
    "**Grid Search**"
   ]
  },
  {
   "cell_type": "code",
   "execution_count": 210,
   "metadata": {},
   "outputs": [],
   "source": [
    "from sklearn.model_selection import GridSearchCV\n",
    "#specify the parameters for wich we want to find the optimal values, give different options in dictionaries\n",
    "parameters = [{'loss':[\"deviance\",\"exponential\"],'learning_rate': [0.1, 0.05, 0.2], 'n_estimators': [100,1000,2000], \"max_depth\":[1,3,5]}]\n",
    "#estimator: the model\n",
    "#param_grid: the list of parameters\n",
    "#scoring: scoring metric\n",
    "#cv: number of folds in k-fold cross validation\n",
    "#n_jobs: -1 gives all the power available of the machine\n",
    "grid_search = GridSearchCV(estimator = GradientBoostingClassifier(),\n",
    "                           param_grid = parameters,\n",
    "                           scoring = 'accuracy',\n",
    "                           n_jobs = -1)\n",
    "#fit\n",
    "grid_search = grid_search.fit(X_train, y_train)\n",
    "#get best accuracy score\n",
    "best_accuracy = grid_search.best_score_\n",
    "#best paramesters\n",
    "best_parameters = grid_search.best_params_\n",
    "\n"
   ]
  },
  {
   "cell_type": "code",
   "execution_count": 211,
   "metadata": {},
   "outputs": [
    {
     "data": {
      "text/plain": [
       "{'learning_rate': 0.2,\n",
       " 'loss': 'exponential',\n",
       " 'max_depth': 1,\n",
       " 'n_estimators': 2000}"
      ]
     },
     "execution_count": 211,
     "metadata": {},
     "output_type": "execute_result"
    }
   ],
   "source": [
    "best_parameters"
   ]
  },
  {
   "cell_type": "code",
   "execution_count": 213,
   "metadata": {},
   "outputs": [
    {
     "name": "stdout",
     "output_type": "stream",
     "text": [
      "[[1046   11]\n",
      " [   2 1118]]\n"
     ]
    },
    {
     "data": {
      "text/plain": [
       "0.99402847955902618"
      ]
     },
     "execution_count": 213,
     "metadata": {},
     "output_type": "execute_result"
    }
   ],
   "source": [
    "from sklearn.ensemble import GradientBoostingClassifier\n",
    "classifier = GradientBoostingClassifier(loss=\"exponential\",learning_rate = .2, \n",
    "                                  n_estimators = 2000,max_depth=1,min_samples_leaf=15,min_samples_split=40)\n",
    "#min_samples_leaf=15\n",
    "classifier.fit(X_train, y_train)\n",
    "\n",
    "# Predicting the Test set results\n",
    "y_pred = classifier.predict(X_test)\n",
    "\n",
    "from sklearn.metrics import confusion_matrix\n",
    "cm = confusion_matrix(y_test, y_pred)\n",
    "print(cm)\n",
    "\n",
    "from sklearn.metrics import accuracy_score\n",
    "accuracy_score(y_test,y_pred)"
   ]
  },
  {
   "cell_type": "markdown",
   "metadata": {},
   "source": [
    "**Neural network**"
   ]
  },
  {
   "cell_type": "code",
   "execution_count": 215,
   "metadata": {},
   "outputs": [],
   "source": [
    "from keras.models import Sequential\n",
    "from keras.layers import Dense, Activation\n",
    "from keras.layers import Dense, Dropout"
   ]
  },
  {
   "cell_type": "code",
   "execution_count": 267,
   "metadata": {},
   "outputs": [
    {
     "name": "stdout",
     "output_type": "stream",
     "text": [
      "Epoch 1/100\n",
      "8705/8705 [==============================] - 1s 68us/step - loss: 0.2008 - acc: 0.9205\n",
      "Epoch 2/100\n",
      "8705/8705 [==============================] - 0s 24us/step - loss: 0.0986 - acc: 0.9594\n",
      "Epoch 3/100\n",
      "8705/8705 [==============================] - 0s 23us/step - loss: 0.0655 - acc: 0.9755\n",
      "Epoch 4/100\n",
      "8705/8705 [==============================] - 0s 23us/step - loss: 0.0505 - acc: 0.9784\n",
      "Epoch 5/100\n",
      "8705/8705 [==============================] - 0s 23us/step - loss: 0.0424 - acc: 0.9821\n",
      "Epoch 6/100\n",
      "8705/8705 [==============================] - 0s 24us/step - loss: 0.0395 - acc: 0.9831\n",
      "Epoch 7/100\n",
      "8705/8705 [==============================] - 0s 23us/step - loss: 0.0340 - acc: 0.9867\n",
      "Epoch 8/100\n",
      "8705/8705 [==============================] - 0s 31us/step - loss: 0.0293 - acc: 0.9877\n",
      "Epoch 9/100\n",
      "8705/8705 [==============================] - 0s 26us/step - loss: 0.0288 - acc: 0.9895\n",
      "Epoch 10/100\n",
      "8705/8705 [==============================] - 0s 23us/step - loss: 0.0239 - acc: 0.9901\n",
      "Epoch 11/100\n",
      "8705/8705 [==============================] - 0s 25us/step - loss: 0.0229 - acc: 0.9907\n",
      "Epoch 12/100\n",
      "8705/8705 [==============================] - 0s 25us/step - loss: 0.0213 - acc: 0.9906\n",
      "Epoch 13/100\n",
      "8705/8705 [==============================] - 0s 23us/step - loss: 0.0214 - acc: 0.9916\n",
      "Epoch 14/100\n",
      "8705/8705 [==============================] - 0s 24us/step - loss: 0.0217 - acc: 0.9917\n",
      "Epoch 15/100\n",
      "8705/8705 [==============================] - 0s 24us/step - loss: 0.0184 - acc: 0.9936\n",
      "Epoch 16/100\n",
      "8705/8705 [==============================] - 0s 23us/step - loss: 0.0166 - acc: 0.9945\n",
      "Epoch 17/100\n",
      "8705/8705 [==============================] - 0s 24us/step - loss: 0.0157 - acc: 0.9936\n",
      "Epoch 18/100\n",
      "8705/8705 [==============================] - 0s 31us/step - loss: 0.0174 - acc: 0.9933\n",
      "Epoch 19/100\n",
      "8705/8705 [==============================] - 0s 24us/step - loss: 0.0140 - acc: 0.9947\n",
      "Epoch 20/100\n",
      "8705/8705 [==============================] - 0s 24us/step - loss: 0.0139 - acc: 0.9946\n",
      "Epoch 21/100\n",
      "8705/8705 [==============================] - 0s 25us/step - loss: 0.0132 - acc: 0.9952\n",
      "Epoch 22/100\n",
      "8705/8705 [==============================] - 0s 25us/step - loss: 0.0151 - acc: 0.9939\n",
      "Epoch 23/100\n",
      "8705/8705 [==============================] - 0s 24us/step - loss: 0.0126 - acc: 0.9943\n",
      "Epoch 24/100\n",
      "8705/8705 [==============================] - 0s 24us/step - loss: 0.0105 - acc: 0.9956\n",
      "Epoch 25/100\n",
      "8705/8705 [==============================] - 0s 25us/step - loss: 0.0149 - acc: 0.9954\n",
      "Epoch 26/100\n",
      "8705/8705 [==============================] - 0s 28us/step - loss: 0.0110 - acc: 0.9957\n",
      "Epoch 27/100\n",
      "8705/8705 [==============================] - 0s 27us/step - loss: 0.0108 - acc: 0.9960\n",
      "Epoch 28/100\n",
      "8705/8705 [==============================] - 0s 23us/step - loss: 0.0134 - acc: 0.9959\n",
      "Epoch 29/100\n",
      "8705/8705 [==============================] - 0s 26us/step - loss: 0.0113 - acc: 0.9961\n",
      "Epoch 30/100\n",
      "8705/8705 [==============================] - 0s 27us/step - loss: 0.0127 - acc: 0.9964\n",
      "Epoch 31/100\n",
      "8705/8705 [==============================] - 0s 23us/step - loss: 0.0092 - acc: 0.9969\n",
      "Epoch 32/100\n",
      "8705/8705 [==============================] - 0s 24us/step - loss: 0.0097 - acc: 0.9972\n",
      "Epoch 33/100\n",
      "8705/8705 [==============================] - 0s 26us/step - loss: 0.0095 - acc: 0.9959\n",
      "Epoch 34/100\n",
      "8705/8705 [==============================] - 0s 24us/step - loss: 0.0106 - acc: 0.9957\n",
      "Epoch 35/100\n",
      "8705/8705 [==============================] - 0s 24us/step - loss: 0.0089 - acc: 0.9971\n",
      "Epoch 36/100\n",
      "8705/8705 [==============================] - 0s 24us/step - loss: 0.0112 - acc: 0.9967\n",
      "Epoch 37/100\n",
      "8705/8705 [==============================] - 0s 24us/step - loss: 0.0117 - acc: 0.9969\n",
      "Epoch 38/100\n",
      "8705/8705 [==============================] - 0s 24us/step - loss: 0.0081 - acc: 0.9976\n",
      "Epoch 39/100\n",
      "8705/8705 [==============================] - 0s 24us/step - loss: 0.0083 - acc: 0.9974\n",
      "Epoch 40/100\n",
      "8705/8705 [==============================] - 0s 24us/step - loss: 0.0086 - acc: 0.9968\n",
      "Epoch 41/100\n",
      "8705/8705 [==============================] - 0s 26us/step - loss: 0.0084 - acc: 0.9969\n",
      "Epoch 42/100\n",
      "8705/8705 [==============================] - 0s 28us/step - loss: 0.0093 - acc: 0.9971\n",
      "Epoch 43/100\n",
      "8705/8705 [==============================] - 0s 24us/step - loss: 0.0065 - acc: 0.9979\n",
      "Epoch 44/100\n",
      "8705/8705 [==============================] - 0s 23us/step - loss: 0.0079 - acc: 0.9967\n",
      "Epoch 45/100\n",
      "8705/8705 [==============================] - 0s 26us/step - loss: 0.0070 - acc: 0.9976\n",
      "Epoch 46/100\n",
      "8705/8705 [==============================] - 0s 24us/step - loss: 0.0068 - acc: 0.9978\n",
      "Epoch 47/100\n",
      "8705/8705 [==============================] - 0s 24us/step - loss: 0.0080 - acc: 0.9972\n",
      "Epoch 48/100\n",
      "8705/8705 [==============================] - 0s 29us/step - loss: 0.0053 - acc: 0.9980\n",
      "Epoch 49/100\n",
      "8705/8705 [==============================] - 0s 25us/step - loss: 0.0070 - acc: 0.9972\n",
      "Epoch 50/100\n",
      "8705/8705 [==============================] - 0s 25us/step - loss: 0.0086 - acc: 0.9971\n",
      "Epoch 51/100\n",
      "8705/8705 [==============================] - 0s 25us/step - loss: 0.0054 - acc: 0.9977\n",
      "Epoch 52/100\n",
      "8705/8705 [==============================] - 0s 25us/step - loss: 0.0066 - acc: 0.9975\n",
      "Epoch 53/100\n",
      "8705/8705 [==============================] - 0s 25us/step - loss: 0.0058 - acc: 0.9980\n",
      "Epoch 54/100\n",
      "8705/8705 [==============================] - 0s 24us/step - loss: 0.0056 - acc: 0.9982\n",
      "Epoch 55/100\n",
      "8705/8705 [==============================] - 0s 25us/step - loss: 0.0097 - acc: 0.9974\n",
      "Epoch 56/100\n",
      "8705/8705 [==============================] - 0s 25us/step - loss: 0.0079 - acc: 0.9979\n",
      "Epoch 57/100\n",
      "8705/8705 [==============================] - 0s 24us/step - loss: 0.0066 - acc: 0.9986\n",
      "Epoch 58/100\n",
      "8705/8705 [==============================] - 0s 25us/step - loss: 0.0062 - acc: 0.9978\n",
      "Epoch 59/100\n",
      "8705/8705 [==============================] - 0s 26us/step - loss: 0.0045 - acc: 0.9982\n",
      "Epoch 60/100\n",
      "8705/8705 [==============================] - 0s 25us/step - loss: 0.0061 - acc: 0.9976\n",
      "Epoch 61/100\n",
      "8705/8705 [==============================] - 0s 27us/step - loss: 0.0072 - acc: 0.9969\n",
      "Epoch 62/100\n",
      "8705/8705 [==============================] - 0s 27us/step - loss: 0.0062 - acc: 0.9975\n",
      "Epoch 63/100\n",
      "8705/8705 [==============================] - 0s 28us/step - loss: 0.0044 - acc: 0.9986\n",
      "Epoch 64/100\n",
      "8705/8705 [==============================] - 0s 28us/step - loss: 0.0072 - acc: 0.9979\n",
      "Epoch 65/100\n",
      "8705/8705 [==============================] - 0s 28us/step - loss: 0.0073 - acc: 0.9982\n",
      "Epoch 66/100\n",
      "8705/8705 [==============================] - 0s 27us/step - loss: 0.0060 - acc: 0.9978\n",
      "Epoch 67/100\n",
      "8705/8705 [==============================] - 0s 25us/step - loss: 0.0049 - acc: 0.9978\n",
      "Epoch 68/100\n",
      "8705/8705 [==============================] - 0s 25us/step - loss: 0.0062 - acc: 0.9982\n",
      "Epoch 69/100\n",
      "8705/8705 [==============================] - 0s 26us/step - loss: 0.0055 - acc: 0.9983\n",
      "Epoch 70/100\n",
      "8705/8705 [==============================] - 0s 26us/step - loss: 0.0071 - acc: 0.9977\n",
      "Epoch 71/100\n",
      "8705/8705 [==============================] - 0s 28us/step - loss: 0.0050 - acc: 0.9983\n",
      "Epoch 72/100\n",
      "8705/8705 [==============================] - 0s 27us/step - loss: 0.0035 - acc: 0.9989\n",
      "Epoch 73/100\n",
      "8705/8705 [==============================] - 0s 25us/step - loss: 0.0047 - acc: 0.9987\n",
      "Epoch 74/100\n",
      "8705/8705 [==============================] - 0s 23us/step - loss: 0.0077 - acc: 0.9975\n",
      "Epoch 75/100\n",
      "8705/8705 [==============================] - 0s 24us/step - loss: 0.0073 - acc: 0.9976\n",
      "Epoch 76/100\n",
      "8705/8705 [==============================] - 0s 26us/step - loss: 0.0065 - acc: 0.9983\n",
      "Epoch 77/100\n",
      "8705/8705 [==============================] - 0s 24us/step - loss: 0.0056 - acc: 0.9985\n",
      "Epoch 78/100\n",
      "8705/8705 [==============================] - 0s 23us/step - loss: 0.0035 - acc: 0.9986\n",
      "Epoch 79/100\n",
      "8705/8705 [==============================] - 0s 24us/step - loss: 0.0045 - acc: 0.9983\n",
      "Epoch 80/100\n",
      "8705/8705 [==============================] - 0s 24us/step - loss: 0.0053 - acc: 0.9985\n",
      "Epoch 81/100\n",
      "8705/8705 [==============================] - 0s 27us/step - loss: 0.0041 - acc: 0.9989\n",
      "Epoch 82/100\n",
      "8705/8705 [==============================] - 0s 27us/step - loss: 0.0058 - acc: 0.9980\n",
      "Epoch 83/100\n"
     ]
    },
    {
     "name": "stdout",
     "output_type": "stream",
     "text": [
      "8705/8705 [==============================] - 0s 26us/step - loss: 0.0058 - acc: 0.9977\n",
      "Epoch 84/100\n",
      "8705/8705 [==============================] - 0s 23us/step - loss: 0.0062 - acc: 0.9976\n",
      "Epoch 85/100\n",
      "8705/8705 [==============================] - 0s 23us/step - loss: 0.0028 - acc: 0.9994\n",
      "Epoch 86/100\n",
      "8705/8705 [==============================] - 0s 25us/step - loss: 0.0048 - acc: 0.9989\n",
      "Epoch 87/100\n",
      "8705/8705 [==============================] - 0s 27us/step - loss: 0.0043 - acc: 0.9990\n",
      "Epoch 88/100\n",
      "8705/8705 [==============================] - 0s 26us/step - loss: 0.0076 - acc: 0.9982\n",
      "Epoch 89/100\n",
      "8705/8705 [==============================] - 0s 24us/step - loss: 0.0051 - acc: 0.9982\n",
      "Epoch 90/100\n",
      "8705/8705 [==============================] - 0s 25us/step - loss: 0.0053 - acc: 0.9986\n",
      "Epoch 91/100\n",
      "8705/8705 [==============================] - 0s 25us/step - loss: 0.0063 - acc: 0.9987\n",
      "Epoch 92/100\n",
      "8705/8705 [==============================] - 0s 28us/step - loss: 0.0082 - acc: 0.9983\n",
      "Epoch 93/100\n",
      "8705/8705 [==============================] - 0s 26us/step - loss: 0.0053 - acc: 0.9979\n",
      "Epoch 94/100\n",
      "8705/8705 [==============================] - 0s 25us/step - loss: 0.0039 - acc: 0.9986\n",
      "Epoch 95/100\n",
      "8705/8705 [==============================] - 0s 24us/step - loss: 0.0047 - acc: 0.9989\n",
      "Epoch 96/100\n",
      "8705/8705 [==============================] - 0s 25us/step - loss: 0.0049 - acc: 0.9985\n",
      "Epoch 97/100\n",
      "8705/8705 [==============================] - 0s 26us/step - loss: 0.0054 - acc: 0.9984\n",
      "Epoch 98/100\n",
      "8705/8705 [==============================] - 0s 28us/step - loss: 0.0053 - acc: 0.9986\n",
      "Epoch 99/100\n",
      "8705/8705 [==============================] - 0s 26us/step - loss: 0.0061 - acc: 0.9978\n",
      "Epoch 100/100\n",
      "8705/8705 [==============================] - 0s 24us/step - loss: 0.0040 - acc: 0.9987\n",
      "2177/2177 [==============================] - 0s 35us/step\n"
     ]
    }
   ],
   "source": [
    "model = Sequential()\n",
    "model.add(Dense(256, input_dim=X_train.shape[1],activation='relu'))\n",
    "model.add(Dense(64,activation='relu'))\n",
    "model.add(Dense(8,activation='relu'))\n",
    "model.add(Dense(1,activation='sigmoid'))\n",
    "\n",
    "\n",
    "model.compile(loss='binary_crossentropy',\n",
    "              optimizer='rmsprop',\n",
    "              metrics=['accuracy'])\n",
    "\n",
    "model.fit(X_train, y_train,\n",
    "          epochs=100,\n",
    "          batch_size=64)\n",
    "score = model.evaluate(X_test, y_test, batch_size=128)"
   ]
  },
  {
   "cell_type": "code",
   "execution_count": 268,
   "metadata": {},
   "outputs": [],
   "source": [
    "y_pred=model.predict(X_test)\n",
    "y_pred1=[]\n",
    "for i in range(0,len(y_pred)):\n",
    "    y_pred1.append(np.round(y_pred[i][0]))\n",
    "y_pred=np.array(y_pred1,dtype=np.int64)"
   ]
  },
  {
   "cell_type": "code",
   "execution_count": 269,
   "metadata": {},
   "outputs": [
    {
     "name": "stdout",
     "output_type": "stream",
     "text": [
      "0.988056959118\n"
     ]
    },
    {
     "data": {
      "text/plain": [
       "array([[1040,    9],\n",
       "       [  17, 1111]])"
      ]
     },
     "execution_count": 269,
     "metadata": {},
     "output_type": "execute_result"
    }
   ],
   "source": [
    "print(accuracy_score(y_pred,y_test))\n",
    "confusion_matrix(y_pred,y_test)"
   ]
  },
  {
   "cell_type": "markdown",
   "metadata": {},
   "source": [
    "**Cross-validation**"
   ]
  },
  {
   "cell_type": "code",
   "execution_count": 275,
   "metadata": {},
   "outputs": [
    {
     "name": "stdout",
     "output_type": "stream",
     "text": [
      "CV Model Accuracy : 0.982549826004\n",
      "Number of mislabeled points out of a total 2177 points : 13\n"
     ]
    }
   ],
   "source": [
    "from sklearn.cross_validation import cross_val_score\n",
    "RFC = GradientBoostingClassifier(loss=\"exponential\",learning_rate = .2, \n",
    "                                  n_estimators = 2000,max_depth=1,min_samples_leaf=15,min_samples_split=40)\n",
    "y_pred = RFC.fit(X_train, y_train).predict(X_test)\n",
    "cv_score = cross_val_score(RFC, X_test, y_test, scoring = 'accuracy', cv = 5)\n",
    "print('CV Model Accuracy :' , cv_score.mean())\n",
    "print(\"Number of mislabeled points out of a total %d points : %d\" % (X_test.shape[0],(y_test != y_pred).sum()))\n"
   ]
  },
  {
   "cell_type": "code",
   "execution_count": null,
   "metadata": {},
   "outputs": [],
   "source": []
  }
 ],
 "metadata": {
  "kernelspec": {
   "display_name": "Python 3",
   "language": "python",
   "name": "python3"
  },
  "language_info": {
   "codemirror_mode": {
    "name": "ipython",
    "version": 3
   },
   "file_extension": ".py",
   "mimetype": "text/x-python",
   "name": "python",
   "nbconvert_exporter": "python",
   "pygments_lexer": "ipython3",
   "version": "3.6.5"
  }
 },
 "nbformat": 4,
 "nbformat_minor": 2
}
