{
 "cells": [
  {
   "cell_type": "markdown",
   "metadata": {},
   "source": [
    "# Analytics"
   ]
  },
  {
   "cell_type": "markdown",
   "metadata": {},
   "source": [
    "Lo studente deve:\n",
    "\n",
    "- importare i dati\n",
    "\n",
    "- selezionare 30 variabili (utilizzare SelectKBest con chi2)\n",
    "\n",
    "- non è necessario il bilanciamento\n",
    "\n",
    "- suddividere il campione in file TRAIN=70%  e  file TEST=30% \n",
    "\n",
    "- applicare un neural network con 5 nodi nel primo strato e 5 nel secondo\n",
    "\n",
    "- valutare il modello \n",
    "\n",
    "Ripetere la stessa analisi con le foreste random (RandomForestClassifier), senza fare la selezione delle variabili, usando 200 alberi.\n",
    "\n",
    "Provare a fare il tuning dei modelli\n",
    "\n",
    "Riportare brevemente i risultati ottenuti in un doc\n",
    "\n",
    "upload dei risultati e del programma"
   ]
  },
  {
   "cell_type": "code",
   "execution_count": 137,
   "metadata": {},
   "outputs": [],
   "source": [
    "#importiamo le variabili che ci interessano\n",
    "import pandas as pd \n",
    "import numpy as np\n",
    "from sklearn.cross_validation import train_test_split\n",
    "from sklearn.grid_search import GridSearchCV\n",
    "from sklearn.model_selection import cross_val_score\n",
    "from sklearn.preprocessing import LabelEncoder,StandardScaler,OneHotEncoder\n",
    "from sklearn.preprocessing import Imputer\n",
    "from sklearn.feature_selection import SelectKBest\n",
    "from sklearn.feature_selection import chi2\n",
    "from sklearn.metrics import accuracy_score,confusion_matrix,roc_auc_score,roc_curve\n",
    "from keras import Sequential\n",
    "from keras.utils import np_utils\n",
    "from keras.layers import Activation,BatchNormalization,Dropout,Dense"
   ]
  },
  {
   "cell_type": "markdown",
   "metadata": {},
   "source": [
    "Prima di tutto importo il dataset in questione e guardo le prime righe $(dataset.head())$"
   ]
  },
  {
   "cell_type": "code",
   "execution_count": 138,
   "metadata": {},
   "outputs": [],
   "source": [
    "dataset=pd.read_csv('/Users/alfonsodamelio/Downloads/ottotrain3.csv',delimiter=',')"
   ]
  },
  {
   "cell_type": "code",
   "execution_count": 139,
   "metadata": {},
   "outputs": [
    {
     "data": {
      "text/html": [
       "<div>\n",
       "<style>\n",
       "    .dataframe thead tr:only-child th {\n",
       "        text-align: right;\n",
       "    }\n",
       "\n",
       "    .dataframe thead th {\n",
       "        text-align: left;\n",
       "    }\n",
       "\n",
       "    .dataframe tbody tr th {\n",
       "        vertical-align: top;\n",
       "    }\n",
       "</style>\n",
       "<table border=\"1\" class=\"dataframe\">\n",
       "  <thead>\n",
       "    <tr style=\"text-align: right;\">\n",
       "      <th></th>\n",
       "      <th>feat_1</th>\n",
       "      <th>feat_2</th>\n",
       "      <th>feat_3</th>\n",
       "      <th>feat_4</th>\n",
       "      <th>feat_5</th>\n",
       "      <th>feat_6</th>\n",
       "      <th>feat_7</th>\n",
       "      <th>feat_8</th>\n",
       "      <th>feat_9</th>\n",
       "      <th>feat_10</th>\n",
       "      <th>...</th>\n",
       "      <th>feat_85</th>\n",
       "      <th>feat_86</th>\n",
       "      <th>feat_87</th>\n",
       "      <th>feat_88</th>\n",
       "      <th>feat_89</th>\n",
       "      <th>feat_90</th>\n",
       "      <th>feat_91</th>\n",
       "      <th>feat_92</th>\n",
       "      <th>feat_93</th>\n",
       "      <th>target</th>\n",
       "    </tr>\n",
       "  </thead>\n",
       "  <tbody>\n",
       "    <tr>\n",
       "      <th>0</th>\n",
       "      <td>0</td>\n",
       "      <td>0</td>\n",
       "      <td>0</td>\n",
       "      <td>0</td>\n",
       "      <td>0</td>\n",
       "      <td>0</td>\n",
       "      <td>0</td>\n",
       "      <td>0</td>\n",
       "      <td>0</td>\n",
       "      <td>0</td>\n",
       "      <td>...</td>\n",
       "      <td>1</td>\n",
       "      <td>2</td>\n",
       "      <td>0</td>\n",
       "      <td>0</td>\n",
       "      <td>0</td>\n",
       "      <td>0</td>\n",
       "      <td>0</td>\n",
       "      <td>0</td>\n",
       "      <td>0</td>\n",
       "      <td>2</td>\n",
       "    </tr>\n",
       "    <tr>\n",
       "      <th>1</th>\n",
       "      <td>0</td>\n",
       "      <td>0</td>\n",
       "      <td>0</td>\n",
       "      <td>0</td>\n",
       "      <td>0</td>\n",
       "      <td>0</td>\n",
       "      <td>0</td>\n",
       "      <td>1</td>\n",
       "      <td>0</td>\n",
       "      <td>0</td>\n",
       "      <td>...</td>\n",
       "      <td>0</td>\n",
       "      <td>2</td>\n",
       "      <td>0</td>\n",
       "      <td>0</td>\n",
       "      <td>0</td>\n",
       "      <td>1</td>\n",
       "      <td>0</td>\n",
       "      <td>0</td>\n",
       "      <td>1</td>\n",
       "      <td>1</td>\n",
       "    </tr>\n",
       "    <tr>\n",
       "      <th>2</th>\n",
       "      <td>0</td>\n",
       "      <td>0</td>\n",
       "      <td>0</td>\n",
       "      <td>0</td>\n",
       "      <td>0</td>\n",
       "      <td>0</td>\n",
       "      <td>0</td>\n",
       "      <td>0</td>\n",
       "      <td>0</td>\n",
       "      <td>0</td>\n",
       "      <td>...</td>\n",
       "      <td>0</td>\n",
       "      <td>1</td>\n",
       "      <td>0</td>\n",
       "      <td>2</td>\n",
       "      <td>0</td>\n",
       "      <td>0</td>\n",
       "      <td>0</td>\n",
       "      <td>0</td>\n",
       "      <td>0</td>\n",
       "      <td>2</td>\n",
       "    </tr>\n",
       "    <tr>\n",
       "      <th>3</th>\n",
       "      <td>0</td>\n",
       "      <td>0</td>\n",
       "      <td>0</td>\n",
       "      <td>0</td>\n",
       "      <td>0</td>\n",
       "      <td>0</td>\n",
       "      <td>0</td>\n",
       "      <td>0</td>\n",
       "      <td>1</td>\n",
       "      <td>0</td>\n",
       "      <td>...</td>\n",
       "      <td>0</td>\n",
       "      <td>0</td>\n",
       "      <td>0</td>\n",
       "      <td>1</td>\n",
       "      <td>0</td>\n",
       "      <td>0</td>\n",
       "      <td>0</td>\n",
       "      <td>0</td>\n",
       "      <td>0</td>\n",
       "      <td>2</td>\n",
       "    </tr>\n",
       "    <tr>\n",
       "      <th>4</th>\n",
       "      <td>0</td>\n",
       "      <td>0</td>\n",
       "      <td>0</td>\n",
       "      <td>0</td>\n",
       "      <td>0</td>\n",
       "      <td>0</td>\n",
       "      <td>0</td>\n",
       "      <td>0</td>\n",
       "      <td>0</td>\n",
       "      <td>0</td>\n",
       "      <td>...</td>\n",
       "      <td>0</td>\n",
       "      <td>2</td>\n",
       "      <td>0</td>\n",
       "      <td>3</td>\n",
       "      <td>0</td>\n",
       "      <td>0</td>\n",
       "      <td>0</td>\n",
       "      <td>0</td>\n",
       "      <td>0</td>\n",
       "      <td>3</td>\n",
       "    </tr>\n",
       "  </tbody>\n",
       "</table>\n",
       "<p>5 rows × 94 columns</p>\n",
       "</div>"
      ],
      "text/plain": [
       "   feat_1  feat_2  feat_3  feat_4  feat_5  feat_6  feat_7  feat_8  feat_9  \\\n",
       "0       0       0       0       0       0       0       0       0       0   \n",
       "1       0       0       0       0       0       0       0       1       0   \n",
       "2       0       0       0       0       0       0       0       0       0   \n",
       "3       0       0       0       0       0       0       0       0       1   \n",
       "4       0       0       0       0       0       0       0       0       0   \n",
       "\n",
       "   feat_10   ...    feat_85  feat_86  feat_87  feat_88  feat_89  feat_90  \\\n",
       "0        0   ...          1        2        0        0        0        0   \n",
       "1        0   ...          0        2        0        0        0        1   \n",
       "2        0   ...          0        1        0        2        0        0   \n",
       "3        0   ...          0        0        0        1        0        0   \n",
       "4        0   ...          0        2        0        3        0        0   \n",
       "\n",
       "   feat_91  feat_92  feat_93  target  \n",
       "0        0        0        0       2  \n",
       "1        0        0        1       1  \n",
       "2        0        0        0       2  \n",
       "3        0        0        0       2  \n",
       "4        0        0        0       3  \n",
       "\n",
       "[5 rows x 94 columns]"
      ]
     },
     "execution_count": 139,
     "metadata": {},
     "output_type": "execute_result"
    }
   ],
   "source": [
    "dataset=dataset.drop(['id'],axis=1)\n",
    "dataset.head(5)"
   ]
  },
  {
   "cell_type": "markdown",
   "metadata": {},
   "source": [
    "+ Vediamo se ci sono dei valori **Na** nel dataset in questione\n",
    "    - nel caso ci fossero, vediamo le colonne che li hanno"
   ]
  },
  {
   "cell_type": "code",
   "execution_count": 140,
   "metadata": {},
   "outputs": [
    {
     "name": "stdout",
     "output_type": "stream",
     "text": [
      "False\n",
      "[]\n"
     ]
    }
   ],
   "source": [
    "print(dataset.isnull().values.any())\n",
    "print(dataset.columns[dataset.isnull().any()].tolist())"
   ]
  },
  {
   "cell_type": "markdown",
   "metadata": {},
   "source": [
    "Non c'è bisogno quindi di imputare"
   ]
  },
  {
   "cell_type": "code",
   "execution_count": null,
   "metadata": {},
   "outputs": [],
   "source": [
    "from sklearn.preprocessing import Imputer\n",
    "imputer = Imputer(missing_values = \"NaN\", strategy =\"mean\", axis = 0)\n",
    "\n",
    "#only on the coluomns where there are missing values\n",
    "imputer = imputer.fit(X[:, [1,3]])\n",
    "X[:, [1,3]] = imputer.transform(X[:, [1,3]])"
   ]
  },
  {
   "cell_type": "markdown",
   "metadata": {},
   "source": [
    "Divido in $X$ ed $y$, dove $y$ è la variabile risposta.."
   ]
  },
  {
   "cell_type": "code",
   "execution_count": 104,
   "metadata": {},
   "outputs": [],
   "source": [
    "X=dataset.drop(['target'],axis=1).values\n",
    "y=dataset['target'].values"
   ]
  },
  {
   "cell_type": "code",
   "execution_count": 105,
   "metadata": {},
   "outputs": [
    {
     "name": "stdout",
     "output_type": "stream",
     "text": [
      "(21783, 93)\n",
      "(21783,)\n"
     ]
    }
   ],
   "source": [
    "print(X.shape)\n",
    "print(y.shape)"
   ]
  },
  {
   "cell_type": "code",
   "execution_count": 70,
   "metadata": {},
   "outputs": [],
   "source": [
    "X_30= SelectKBest(chi2, k=30).fit_transform(X, y)"
   ]
  },
  {
   "cell_type": "code",
   "execution_count": 71,
   "metadata": {},
   "outputs": [
    {
     "name": "stdout",
     "output_type": "stream",
     "text": [
      "(21783, 30)\n"
     ]
    }
   ],
   "source": [
    "print(X_30.shape)"
   ]
  },
  {
   "cell_type": "markdown",
   "metadata": {},
   "source": [
    "Non c'è bisogno di creare ne variabili dummies ne di mettere log"
   ]
  },
  {
   "cell_type": "code",
   "execution_count": 72,
   "metadata": {},
   "outputs": [],
   "source": [
    "X_train,X_test,y_train,y_test=train_test_split(X_30, y, test_size = 0.3, random_state = 0)"
   ]
  },
  {
   "cell_type": "code",
   "execution_count": 73,
   "metadata": {},
   "outputs": [
    {
     "name": "stdout",
     "output_type": "stream",
     "text": [
      "(15248, 30)\n",
      "(6535, 30)\n"
     ]
    }
   ],
   "source": [
    "print(X_train.shape)\n",
    "print(X_test.shape)"
   ]
  },
  {
   "cell_type": "markdown",
   "metadata": {},
   "source": [
    "Nel caso volessi fare il balancing del TRAIN:\n",
    "\n",
    "**SMOTE Oversampling**\n",
    "\n",
    "*from imblearn.over_sampling import SMOTE*\n",
    "\n",
    "*from sklearn.externals.joblib.parallel import _backend*\n",
    "\n",
    "*sm = SMOTE(random_state=0, ratio = 1.0)*\n",
    "\n",
    "*X, y = sm.fit_sample(X, y)*"
   ]
  },
  {
   "cell_type": "code",
   "execution_count": 74,
   "metadata": {},
   "outputs": [],
   "source": [
    "labelencoder_y = LabelEncoder()\n",
    "y_train = labelencoder_y.fit_transform(y_train)\n",
    "y_test = labelencoder_y.fit_transform(y_test)"
   ]
  },
  {
   "cell_type": "markdown",
   "metadata": {},
   "source": [
    "Converto lista di label [1,2,0] in:\n",
    "+ [[0,1,0],[0,0,1],[1,0,0]]"
   ]
  },
  {
   "cell_type": "code",
   "execution_count": 75,
   "metadata": {},
   "outputs": [],
   "source": [
    "# convert integers to dummy variables (i.e. one hot encoded)\n",
    "y_train = np_utils.to_categorical(y_train)"
   ]
  },
  {
   "cell_type": "markdown",
   "metadata": {},
   "source": [
    "**oppure cosi se voglio usare one hot encoder:**\n",
    "\n",
    "*onehot_encoder = OneHotEncoder(sparse=False)*\n",
    "\n",
    "*integer_encoded = y_train.reshape(len(y_train), 1)*\n",
    "\n",
    "*onehot_encoded = onehot_encoder.fit_transform(integer_encoded)*"
   ]
  },
  {
   "cell_type": "markdown",
   "metadata": {},
   "source": [
    "**Costruiamo la rete neurale con due hidden layer da 5 strati**"
   ]
  },
  {
   "cell_type": "code",
   "execution_count": 76,
   "metadata": {},
   "outputs": [
    {
     "name": "stdout",
     "output_type": "stream",
     "text": [
      "Train on 12198 samples, validate on 3050 samples\n",
      "Epoch 1/50\n",
      "12198/12198 [==============================] - 1s 50us/step - loss: 0.8936 - acc: 0.6198 - val_loss: 0.6638 - val_acc: 0.7964\n",
      "Epoch 2/50\n",
      "12198/12198 [==============================] - 0s 18us/step - loss: 0.5154 - acc: 0.8333 - val_loss: 0.4414 - val_acc: 0.8443\n",
      "Epoch 3/50\n",
      "12198/12198 [==============================] - 0s 18us/step - loss: 0.3435 - acc: 0.8953 - val_loss: 0.3059 - val_acc: 0.9115\n",
      "Epoch 4/50\n",
      "12198/12198 [==============================] - 0s 18us/step - loss: 0.2584 - acc: 0.9256 - val_loss: 0.2549 - val_acc: 0.9193\n",
      "Epoch 5/50\n",
      "12198/12198 [==============================] - 0s 18us/step - loss: 0.2228 - acc: 0.9351 - val_loss: 0.2272 - val_acc: 0.9361\n",
      "Epoch 6/50\n",
      "12198/12198 [==============================] - 0s 17us/step - loss: 0.2061 - acc: 0.9411 - val_loss: 0.2186 - val_acc: 0.9393\n",
      "Epoch 7/50\n",
      "12198/12198 [==============================] - 0s 17us/step - loss: 0.1975 - acc: 0.9441 - val_loss: 0.2089 - val_acc: 0.9393\n",
      "Epoch 8/50\n",
      "12198/12198 [==============================] - 0s 17us/step - loss: 0.1916 - acc: 0.9456 - val_loss: 0.2050 - val_acc: 0.9397\n",
      "Epoch 9/50\n",
      "12198/12198 [==============================] - 0s 17us/step - loss: 0.1886 - acc: 0.9472 - val_loss: 0.2022 - val_acc: 0.9403\n",
      "Epoch 10/50\n",
      "12198/12198 [==============================] - 0s 17us/step - loss: 0.1864 - acc: 0.9477 - val_loss: 0.1999 - val_acc: 0.9430\n",
      "Epoch 11/50\n",
      "12198/12198 [==============================] - 0s 18us/step - loss: 0.1851 - acc: 0.9490 - val_loss: 0.1990 - val_acc: 0.9416\n",
      "Epoch 12/50\n",
      "12198/12198 [==============================] - 0s 17us/step - loss: 0.1845 - acc: 0.9490 - val_loss: 0.1995 - val_acc: 0.9416\n",
      "Epoch 13/50\n",
      "12198/12198 [==============================] - 0s 17us/step - loss: 0.1835 - acc: 0.9483 - val_loss: 0.1987 - val_acc: 0.9439\n",
      "Epoch 14/50\n",
      "12198/12198 [==============================] - 0s 18us/step - loss: 0.1823 - acc: 0.9499 - val_loss: 0.1998 - val_acc: 0.9416\n",
      "Epoch 15/50\n",
      "12198/12198 [==============================] - 0s 18us/step - loss: 0.1824 - acc: 0.9508 - val_loss: 0.1965 - val_acc: 0.9443\n",
      "Epoch 16/50\n",
      "12198/12198 [==============================] - 0s 17us/step - loss: 0.1812 - acc: 0.9498 - val_loss: 0.1954 - val_acc: 0.9443\n",
      "Epoch 17/50\n",
      "12198/12198 [==============================] - 0s 20us/step - loss: 0.1811 - acc: 0.9511 - val_loss: 0.1973 - val_acc: 0.9439\n",
      "Epoch 18/50\n",
      "12198/12198 [==============================] - 0s 18us/step - loss: 0.1804 - acc: 0.9512 - val_loss: 0.1946 - val_acc: 0.9439\n",
      "Epoch 19/50\n",
      "12198/12198 [==============================] - 0s 17us/step - loss: 0.1801 - acc: 0.9515 - val_loss: 0.1948 - val_acc: 0.9426\n",
      "Epoch 20/50\n",
      "12198/12198 [==============================] - 0s 20us/step - loss: 0.1800 - acc: 0.9511 - val_loss: 0.1943 - val_acc: 0.9452\n",
      "Epoch 21/50\n",
      "12198/12198 [==============================] - 0s 17us/step - loss: 0.1795 - acc: 0.9516 - val_loss: 0.1940 - val_acc: 0.9443\n",
      "Epoch 22/50\n",
      "12198/12198 [==============================] - 0s 19us/step - loss: 0.1795 - acc: 0.9512 - val_loss: 0.1945 - val_acc: 0.9449\n",
      "Epoch 23/50\n",
      "12198/12198 [==============================] - 0s 18us/step - loss: 0.1792 - acc: 0.9524 - val_loss: 0.1923 - val_acc: 0.9449\n",
      "Epoch 24/50\n",
      "12198/12198 [==============================] - 0s 17us/step - loss: 0.1794 - acc: 0.9510 - val_loss: 0.1925 - val_acc: 0.9446\n",
      "Epoch 25/50\n",
      "12198/12198 [==============================] - 0s 21us/step - loss: 0.1780 - acc: 0.9525 - val_loss: 0.1944 - val_acc: 0.9446\n",
      "Epoch 26/50\n",
      "12198/12198 [==============================] - 0s 18us/step - loss: 0.1780 - acc: 0.9520 - val_loss: 0.1963 - val_acc: 0.9443\n",
      "Epoch 27/50\n",
      "12198/12198 [==============================] - 0s 17us/step - loss: 0.1778 - acc: 0.9507 - val_loss: 0.1947 - val_acc: 0.9433\n",
      "Epoch 28/50\n",
      "12198/12198 [==============================] - 0s 19us/step - loss: 0.1777 - acc: 0.9524 - val_loss: 0.1931 - val_acc: 0.9439\n",
      "Epoch 29/50\n",
      "12198/12198 [==============================] - 0s 17us/step - loss: 0.1770 - acc: 0.9520 - val_loss: 0.1911 - val_acc: 0.9452\n",
      "Epoch 30/50\n",
      "12198/12198 [==============================] - 0s 17us/step - loss: 0.1760 - acc: 0.9520 - val_loss: 0.1920 - val_acc: 0.9459\n",
      "Epoch 31/50\n",
      "12198/12198 [==============================] - 0s 17us/step - loss: 0.1757 - acc: 0.9527 - val_loss: 0.1925 - val_acc: 0.9443\n",
      "Epoch 32/50\n",
      "12198/12198 [==============================] - 0s 17us/step - loss: 0.1760 - acc: 0.9511 - val_loss: 0.1905 - val_acc: 0.9449\n",
      "Epoch 33/50\n",
      "12198/12198 [==============================] - 0s 17us/step - loss: 0.1754 - acc: 0.9524 - val_loss: 0.1932 - val_acc: 0.9466\n",
      "Epoch 34/50\n",
      "12198/12198 [==============================] - 0s 17us/step - loss: 0.1753 - acc: 0.9516 - val_loss: 0.1914 - val_acc: 0.9462\n",
      "Epoch 35/50\n",
      "12198/12198 [==============================] - 0s 17us/step - loss: 0.1744 - acc: 0.9525 - val_loss: 0.1922 - val_acc: 0.9459\n",
      "Epoch 36/50\n",
      "12198/12198 [==============================] - 0s 17us/step - loss: 0.1737 - acc: 0.9526 - val_loss: 0.1913 - val_acc: 0.9459\n",
      "Epoch 37/50\n",
      "12198/12198 [==============================] - 0s 17us/step - loss: 0.1732 - acc: 0.9521 - val_loss: 0.1916 - val_acc: 0.9469\n",
      "Epoch 38/50\n",
      "12198/12198 [==============================] - 0s 17us/step - loss: 0.1727 - acc: 0.9525 - val_loss: 0.1914 - val_acc: 0.9466\n",
      "Epoch 39/50\n",
      "12198/12198 [==============================] - 0s 20us/step - loss: 0.1732 - acc: 0.9519 - val_loss: 0.1910 - val_acc: 0.9456\n",
      "Epoch 40/50\n",
      "12198/12198 [==============================] - 0s 19us/step - loss: 0.1720 - acc: 0.9529 - val_loss: 0.1945 - val_acc: 0.9443\n",
      "Epoch 41/50\n",
      "12198/12198 [==============================] - 0s 17us/step - loss: 0.1711 - acc: 0.9530 - val_loss: 0.1889 - val_acc: 0.9459\n",
      "Epoch 42/50\n",
      "12198/12198 [==============================] - 0s 17us/step - loss: 0.1702 - acc: 0.9534 - val_loss: 0.1891 - val_acc: 0.9475\n",
      "Epoch 43/50\n",
      "12198/12198 [==============================] - 0s 18us/step - loss: 0.1696 - acc: 0.9538 - val_loss: 0.1903 - val_acc: 0.9452\n",
      "Epoch 44/50\n",
      "12198/12198 [==============================] - 0s 19us/step - loss: 0.1707 - acc: 0.9521 - val_loss: 0.1885 - val_acc: 0.9462\n",
      "Epoch 45/50\n",
      "12198/12198 [==============================] - 0s 17us/step - loss: 0.1681 - acc: 0.9536 - val_loss: 0.1870 - val_acc: 0.9469\n",
      "Epoch 46/50\n",
      "12198/12198 [==============================] - 0s 19us/step - loss: 0.1677 - acc: 0.9537 - val_loss: 0.1847 - val_acc: 0.9469\n",
      "Epoch 47/50\n",
      "12198/12198 [==============================] - 0s 18us/step - loss: 0.1670 - acc: 0.9543 - val_loss: 0.1879 - val_acc: 0.9459\n",
      "Epoch 48/50\n",
      "12198/12198 [==============================] - 0s 19us/step - loss: 0.1664 - acc: 0.9538 - val_loss: 0.1861 - val_acc: 0.9479\n",
      "Epoch 49/50\n",
      "12198/12198 [==============================] - 0s 18us/step - loss: 0.1658 - acc: 0.9544 - val_loss: 0.1849 - val_acc: 0.9489\n",
      "Epoch 50/50\n",
      "12198/12198 [==============================] - 0s 18us/step - loss: 0.1642 - acc: 0.9543 - val_loss: 0.1839 - val_acc: 0.9489\n"
     ]
    }
   ],
   "source": [
    "model=Sequential()\n",
    "model.add(Dense(5,input_dim=X_train.shape[1],activation='relu'))\n",
    "model.add(Dense(5,activation='relu'))\n",
    "model.add(Dense(3,activation='softmax'))\n",
    "\n",
    "model.compile(loss='categorical_crossentropy',\n",
    "              optimizer='Adam',\n",
    "              metrics=['accuracy'])\n",
    "\n",
    "history=model.fit(X_train, y_train,epochs=50,batch_size=64,validation_split=0.2)\n",
    "\n",
    "\n",
    "\n"
   ]
  },
  {
   "cell_type": "code",
   "execution_count": 93,
   "metadata": {},
   "outputs": [
    {
     "data": {
      "text/plain": [
       "<matplotlib.legend.Legend at 0x12a7f2748>"
      ]
     },
     "execution_count": 93,
     "metadata": {},
     "output_type": "execute_result"
    },
    {
     "data": {
      "image/png": "[encoded data removed]",
      "text/plain": [
       "<Figure size 720x360 with 2 Axes>"
      ]
     },
     "metadata": {},
     "output_type": "display_data"
    }
   ],
   "source": [
    "import matplotlib.pyplot as plt\n",
    "%matplotlib inline\n",
    "plt.figure(figsize=(10,5))\n",
    "plt.subplot(1,2,1)\n",
    "plt.title('loss & val loss trends')\n",
    "plt.plot(history.history['loss'])\n",
    "plt.plot(history.history['val_loss'])\n",
    "plt.legend(['loss','val_loss'])\n",
    "plt.subplot(1,2,2)\n",
    "plt.title('acc & val acc trends')\n",
    "plt.plot(history.history['acc'])\n",
    "plt.plot(history.history['val_acc'])\n",
    "plt.legend(['acc','val_acc'])\n",
    "\n",
    "\n"
   ]
  },
  {
   "cell_type": "code",
   "execution_count": 94,
   "metadata": {},
   "outputs": [],
   "source": [
    "y_pred=model.predict(X_test)\n",
    "y_pred=np.argmax(y_pred,axis=1)"
   ]
  },
  {
   "cell_type": "code",
   "execution_count": 100,
   "metadata": {},
   "outputs": [
    {
     "name": "stdout",
     "output_type": "stream",
     "text": [
      "accuracy score: 0.947054322877\n",
      "\n",
      "confusion matrix: \n",
      "[[ 444   31    2]\n",
      " [  50 3988  248]\n",
      " [   2   13 1757]]\n"
     ]
    }
   ],
   "source": [
    "accuracy=accuracy_score(y_pred,y_test)\n",
    "print(\"accuracy score: %s\"%accuracy)\n",
    "print()\n",
    "conf_mat=confusion_matrix(y_pred,y_test)\n",
    "print('confusion matrix: ')\n",
    "print(conf_mat)"
   ]
  },
  {
   "cell_type": "markdown",
   "metadata": {},
   "source": [
    "### Adesso facciamo la stessa cosa ma senza usare select k best e utilizzando Random forest"
   ]
  },
  {
   "cell_type": "code",
   "execution_count": 141,
   "metadata": {},
   "outputs": [],
   "source": [
    "X_train,X_test,y_train,y_test=train_test_split(X, y, test_size = 0.3, random_state = 0)"
   ]
  },
  {
   "cell_type": "code",
   "execution_count": 142,
   "metadata": {},
   "outputs": [
    {
     "name": "stdout",
     "output_type": "stream",
     "text": [
      "(15248, 93)\n",
      "(6535, 93)\n"
     ]
    }
   ],
   "source": [
    "print(X_train.shape)\n",
    "print(X_test.shape)"
   ]
  },
  {
   "cell_type": "code",
   "execution_count": 143,
   "metadata": {},
   "outputs": [],
   "source": [
    "from sklearn.ensemble import RandomForestClassifier"
   ]
  },
  {
   "cell_type": "code",
   "execution_count": 144,
   "metadata": {},
   "outputs": [],
   "source": [
    "rfc=RandomForestClassifier(n_estimators=200)\n",
    "classifier=rfc.fit(X_train,y_train)"
   ]
  },
  {
   "cell_type": "code",
   "execution_count": 145,
   "metadata": {},
   "outputs": [],
   "source": [
    "y_pred_rf=classifier.predict(X_test)"
   ]
  },
  {
   "cell_type": "code",
   "execution_count": 146,
   "metadata": {},
   "outputs": [
    {
     "name": "stdout",
     "output_type": "stream",
     "text": [
      "Accuracy: 0.96480489671\n",
      "\n",
      "Confusion matrix:\n",
      "[[ 483    0    0]\n",
      " [  13 4028  213]\n",
      " [   0    4 1794]]\n"
     ]
    }
   ],
   "source": [
    "accuracy=accuracy_score(y_pred_rf,y_test)\n",
    "print('Accuracy: '+str(accuracy))\n",
    "print()\n",
    "print('Confusion matrix:')\n",
    "cm=confusion_matrix(y_pred_rf,y_test)\n",
    "print(cm)"
   ]
  },
  {
   "cell_type": "markdown",
   "metadata": {},
   "source": [
    "**Proviamo a fare il grid search**"
   ]
  },
  {
   "cell_type": "code",
   "execution_count": 148,
   "metadata": {},
   "outputs": [
    {
     "name": "stdout",
     "output_type": "stream",
     "text": [
      "best_accuracy: 0.964192025184\n",
      "\n",
      "best_parameters: \n",
      "{'max_depth': 5, 'min_samples_leaf': 2, 'min_samples_split': 2, 'n_estimators': 400}\n"
     ]
    }
   ],
   "source": [
    "from sklearn.model_selection import GridSearchCV\n",
    "classifier=RandomForestClassifier()\n",
    "#specify the parameters for wich we want to find the optimal values, give different options in dictionaries\n",
    "parameters = [{'n_estimators': [200,400,1000], \"max_depth\":[1,3,5],'min_samples_leaf':[1,2], 'min_samples_split':[2,4]}]\n",
    "grid_search = GridSearchCV(estimator = classifier,\n",
    "                           param_grid = parameters,\n",
    "                           scoring = 'accuracy',\n",
    "                           n_jobs = -1)\n",
    "\n",
    "grid_search = grid_search.fit(X_train, y_train)\n",
    "best_accuracy = grid_search.best_score_\n",
    "print('best_accuracy: %s'%best_accuracy)\n",
    "print()\n",
    "best_parameters = grid_search.best_params_\n",
    "print('best_parameters: ')\n",
    "print(best_parameters)"
   ]
  },
  {
   "cell_type": "code",
   "execution_count": 149,
   "metadata": {},
   "outputs": [
    {
     "name": "stdout",
     "output_type": "stream",
     "text": [
      "Accuracy: 0.960214231064\n",
      "\n",
      "Confusion matrix:\n",
      "[[ 455    0    0]\n",
      " [  41 4032  219]\n",
      " [   0    0 1788]]\n"
     ]
    }
   ],
   "source": [
    "rfc=RandomForestClassifier(n_estimators=400,min_samples_split=2,min_samples_leaf=2,max_depth=5)\n",
    "classifier=rfc.fit(X_train,y_train)\n",
    "\n",
    "y_pred_rf=classifier.predict(X_test)\n",
    "\n",
    "accuracy=accuracy_score(y_pred_rf,y_test)\n",
    "print('Accuracy: '+str(accuracy))\n",
    "print()\n",
    "print('Confusion matrix:')\n",
    "cm=confusion_matrix(y_pred_rf,y_test)\n",
    "print(cm)"
   ]
  }
 ],
 "metadata": {
  "kernelspec": {
   "display_name": "Python 3",
   "language": "python",
   "name": "python3"
  },
  "language_info": {
   "codemirror_mode": {
    "name": "ipython",
    "version": 3
   },
   "file_extension": ".py",
   "mimetype": "text/x-python",
   "name": "python",
   "nbconvert_exporter": "python",
   "pygments_lexer": "ipython3",
   "version": "3.6.8"
  }
 },
 "nbformat": 4,
 "nbformat_minor": 2
}
