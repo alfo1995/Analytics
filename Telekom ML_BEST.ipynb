{
 "cells": [
  {
   "cell_type": "markdown",
   "metadata": {},
   "source": [
    "# ML Dataset TELEKOM"
   ]
  },
  {
   "cell_type": "markdown",
   "metadata": {},
   "source": [
    "Per prima cosa importiamo i dati, utilizzando la libreria di alto livello **Pandas**"
   ]
  },
  {
   "cell_type": "code",
   "execution_count": 1,
   "metadata": {},
   "outputs": [],
   "source": [
    "import pandas as pd\n",
    "import numpy as np\n",
    "import matplotlib.pyplot as plt\n",
    "%matplotlib inline"
   ]
  },
  {
   "cell_type": "code",
   "execution_count": 2,
   "metadata": {},
   "outputs": [],
   "source": [
    "dataset=pd.read_csv('/Users/alfonsodamelio/Downloads/telekom.csv',delimiter=',')"
   ]
  },
  {
   "cell_type": "code",
   "execution_count": 3,
   "metadata": {},
   "outputs": [
    {
     "data": {
      "text/html": [
       "<div>\n",
       "<style>\n",
       "    .dataframe thead tr:only-child th {\n",
       "        text-align: right;\n",
       "    }\n",
       "\n",
       "    .dataframe thead th {\n",
       "        text-align: left;\n",
       "    }\n",
       "\n",
       "    .dataframe tbody tr th {\n",
       "        vertical-align: top;\n",
       "    }\n",
       "</style>\n",
       "<table border=\"1\" class=\"dataframe\">\n",
       "  <thead>\n",
       "    <tr style=\"text-align: right;\">\n",
       "      <th></th>\n",
       "      <th>ID</th>\n",
       "      <th>status</th>\n",
       "      <th>piano_tariff</th>\n",
       "      <th>metodo_pagamento</th>\n",
       "      <th>sesso</th>\n",
       "      <th>etacl</th>\n",
       "      <th>zona_attivaz</th>\n",
       "      <th>canale_attivaz</th>\n",
       "      <th>vas1</th>\n",
       "      <th>vas2</th>\n",
       "      <th>...</th>\n",
       "      <th>q01_in_dur_tot</th>\n",
       "      <th>q01_ch_sms</th>\n",
       "      <th>q09_out_ch_peak</th>\n",
       "      <th>q09_out_dur_peak</th>\n",
       "      <th>q09_out_val_peak</th>\n",
       "      <th>q09_out_dur_offpeak</th>\n",
       "      <th>q09_out_val_offpeak</th>\n",
       "      <th>q09_in_ch_tot</th>\n",
       "      <th>q09_in_dur_tot</th>\n",
       "      <th>q09_ch_sms</th>\n",
       "    </tr>\n",
       "  </thead>\n",
       "  <tbody>\n",
       "    <tr>\n",
       "      <th>0</th>\n",
       "      <td>7043</td>\n",
       "      <td>0</td>\n",
       "      <td>8</td>\n",
       "      <td>3</td>\n",
       "      <td>3</td>\n",
       "      <td>30.75</td>\n",
       "      <td>3</td>\n",
       "      <td>5</td>\n",
       "      <td>1</td>\n",
       "      <td>1</td>\n",
       "      <td>...</td>\n",
       "      <td>2162</td>\n",
       "      <td>0</td>\n",
       "      <td>78</td>\n",
       "      <td>5190</td>\n",
       "      <td>34.6450</td>\n",
       "      <td>0</td>\n",
       "      <td>0.0</td>\n",
       "      <td>123</td>\n",
       "      <td>10715</td>\n",
       "      <td>0</td>\n",
       "    </tr>\n",
       "    <tr>\n",
       "      <th>1</th>\n",
       "      <td>7045</td>\n",
       "      <td>0</td>\n",
       "      <td>8</td>\n",
       "      <td>1</td>\n",
       "      <td>3</td>\n",
       "      <td>20.78</td>\n",
       "      <td>2</td>\n",
       "      <td>5</td>\n",
       "      <td>1</td>\n",
       "      <td>1</td>\n",
       "      <td>...</td>\n",
       "      <td>0</td>\n",
       "      <td>0</td>\n",
       "      <td>11</td>\n",
       "      <td>719</td>\n",
       "      <td>4.8191</td>\n",
       "      <td>0</td>\n",
       "      <td>0.0</td>\n",
       "      <td>31</td>\n",
       "      <td>3115</td>\n",
       "      <td>1</td>\n",
       "    </tr>\n",
       "    <tr>\n",
       "      <th>2</th>\n",
       "      <td>7046</td>\n",
       "      <td>0</td>\n",
       "      <td>7</td>\n",
       "      <td>3</td>\n",
       "      <td>3</td>\n",
       "      <td>19.80</td>\n",
       "      <td>1</td>\n",
       "      <td>5</td>\n",
       "      <td>1</td>\n",
       "      <td>1</td>\n",
       "      <td>...</td>\n",
       "      <td>0</td>\n",
       "      <td>0</td>\n",
       "      <td>50</td>\n",
       "      <td>2665</td>\n",
       "      <td>14.1168</td>\n",
       "      <td>0</td>\n",
       "      <td>0.0</td>\n",
       "      <td>170</td>\n",
       "      <td>14807</td>\n",
       "      <td>0</td>\n",
       "    </tr>\n",
       "    <tr>\n",
       "      <th>3</th>\n",
       "      <td>7048</td>\n",
       "      <td>0</td>\n",
       "      <td>8</td>\n",
       "      <td>2</td>\n",
       "      <td>3</td>\n",
       "      <td>21.67</td>\n",
       "      <td>1</td>\n",
       "      <td>9</td>\n",
       "      <td>1</td>\n",
       "      <td>1</td>\n",
       "      <td>...</td>\n",
       "      <td>0</td>\n",
       "      <td>0</td>\n",
       "      <td>65</td>\n",
       "      <td>7216</td>\n",
       "      <td>43.6824</td>\n",
       "      <td>0</td>\n",
       "      <td>0.0</td>\n",
       "      <td>25</td>\n",
       "      <td>3334</td>\n",
       "      <td>0</td>\n",
       "    </tr>\n",
       "    <tr>\n",
       "      <th>4</th>\n",
       "      <td>7049</td>\n",
       "      <td>0</td>\n",
       "      <td>8</td>\n",
       "      <td>2</td>\n",
       "      <td>1</td>\n",
       "      <td>24.75</td>\n",
       "      <td>1</td>\n",
       "      <td>5</td>\n",
       "      <td>1</td>\n",
       "      <td>1</td>\n",
       "      <td>...</td>\n",
       "      <td>0</td>\n",
       "      <td>0</td>\n",
       "      <td>0</td>\n",
       "      <td>0</td>\n",
       "      <td>0.0000</td>\n",
       "      <td>0</td>\n",
       "      <td>0.0</td>\n",
       "      <td>0</td>\n",
       "      <td>0</td>\n",
       "      <td>0</td>\n",
       "    </tr>\n",
       "  </tbody>\n",
       "</table>\n",
       "<p>5 rows × 26 columns</p>\n",
       "</div>"
      ],
      "text/plain": [
       "     ID  status  piano_tariff  metodo_pagamento  sesso  etacl  zona_attivaz  \\\n",
       "0  7043       0             8                 3      3  30.75             3   \n",
       "1  7045       0             8                 1      3  20.78             2   \n",
       "2  7046       0             7                 3      3  19.80             1   \n",
       "3  7048       0             8                 2      3  21.67             1   \n",
       "4  7049       0             8                 2      1  24.75             1   \n",
       "\n",
       "   canale_attivaz  vas1  vas2     ...      q01_in_dur_tot  q01_ch_sms  \\\n",
       "0               5     1     1     ...                2162           0   \n",
       "1               5     1     1     ...                   0           0   \n",
       "2               5     1     1     ...                   0           0   \n",
       "3               9     1     1     ...                   0           0   \n",
       "4               5     1     1     ...                   0           0   \n",
       "\n",
       "   q09_out_ch_peak  q09_out_dur_peak  q09_out_val_peak  q09_out_dur_offpeak  \\\n",
       "0               78              5190           34.6450                    0   \n",
       "1               11               719            4.8191                    0   \n",
       "2               50              2665           14.1168                    0   \n",
       "3               65              7216           43.6824                    0   \n",
       "4                0                 0            0.0000                    0   \n",
       "\n",
       "   q09_out_val_offpeak  q09_in_ch_tot  q09_in_dur_tot  q09_ch_sms  \n",
       "0                  0.0            123           10715           0  \n",
       "1                  0.0             31            3115           1  \n",
       "2                  0.0            170           14807           0  \n",
       "3                  0.0             25            3334           0  \n",
       "4                  0.0              0               0           0  \n",
       "\n",
       "[5 rows x 26 columns]"
      ]
     },
     "execution_count": 3,
     "metadata": {},
     "output_type": "execute_result"
    }
   ],
   "source": [
    "#vediamo le prime 5 righe del nostro dataset per renderci conto dei dati con cui abbiamo a che fare.\n",
    "dataset.head(5)"
   ]
  },
  {
   "cell_type": "markdown",
   "metadata": {},
   "source": [
    "### Recap"
   ]
  },
  {
   "cell_type": "markdown",
   "metadata": {},
   "source": [
    "Bisogna prima di tutto dire che stiamo lavorando su un unico dataset, quindi:\n",
    "- Divideremo il seguente in train e test, alleneremo il nostro algoritmo sul train e predirremo la classificazione sul test\n",
    "\n",
    "Di seguito espongo il procedimento che seguirò nell'analisi del seguente dataset di Telekom:\n",
    "+ Rimuovo la variabile 'ID' in quanto non utile ai fini della predizione.\n",
    "+ Vado a vedere se ci sono \"NaN\" (missing values)\n",
    "    - nel caso in cui ci fossero imputiamo con media o mediana i valori mancanti\n",
    "+ Divido il Dataset in $X$ ed $y$. La $X$ saranno tutte le features tranne la variabile risposta e la $y$ sarà la varibile outcome.\n",
    "+ A questo punto essendo $X$ ed $y$ due array, possiamo fare l'encoding in variabili dummy delle categorical feature mediante l'utilizzo di One Hot Encoder (sklearn).\n",
    "    * Nel caso in cui avessimo utilizzato *pd.get_dummies* invece di *one hot encoding*, lo avremmo potuto fare prima di splittare in $X$ ed $y$.\n",
    "+ Fatto l'encoding delle variabili posso splittare (train_test_split) in TRAIN & TEST.\n",
    "+ alleno l'algoritmo sul mio TRAIN con alberi decisonali, reti neurali o linear classifier.\n",
    "+ uso metriche come $\\rightarrow$ Accuracy, confusion metrics e AUC, ROC curve\n",
    "+ Per migliorare la classificazione binaria si potrebbe provare a blianciare la variabile target nel train e poi provare ad allenare l'algoritmo (over sampling)\n",
    "    + **SMOTE**"
   ]
  },
  {
   "cell_type": "code",
   "execution_count": 4,
   "metadata": {},
   "outputs": [
    {
     "data": {
      "text/html": [
       "<div>\n",
       "<style>\n",
       "    .dataframe thead tr:only-child th {\n",
       "        text-align: right;\n",
       "    }\n",
       "\n",
       "    .dataframe thead th {\n",
       "        text-align: left;\n",
       "    }\n",
       "\n",
       "    .dataframe tbody tr th {\n",
       "        vertical-align: top;\n",
       "    }\n",
       "</style>\n",
       "<table border=\"1\" class=\"dataframe\">\n",
       "  <thead>\n",
       "    <tr style=\"text-align: right;\">\n",
       "      <th></th>\n",
       "      <th>status</th>\n",
       "      <th>piano_tariff</th>\n",
       "      <th>metodo_pagamento</th>\n",
       "      <th>sesso</th>\n",
       "      <th>etacl</th>\n",
       "      <th>zona_attivaz</th>\n",
       "      <th>canale_attivaz</th>\n",
       "      <th>vas1</th>\n",
       "      <th>vas2</th>\n",
       "      <th>q01_out_ch_peak</th>\n",
       "      <th>...</th>\n",
       "      <th>q01_in_dur_tot</th>\n",
       "      <th>q01_ch_sms</th>\n",
       "      <th>q09_out_ch_peak</th>\n",
       "      <th>q09_out_dur_peak</th>\n",
       "      <th>q09_out_val_peak</th>\n",
       "      <th>q09_out_dur_offpeak</th>\n",
       "      <th>q09_out_val_offpeak</th>\n",
       "      <th>q09_in_ch_tot</th>\n",
       "      <th>q09_in_dur_tot</th>\n",
       "      <th>q09_ch_sms</th>\n",
       "    </tr>\n",
       "  </thead>\n",
       "  <tbody>\n",
       "    <tr>\n",
       "      <th>0</th>\n",
       "      <td>0</td>\n",
       "      <td>8</td>\n",
       "      <td>3</td>\n",
       "      <td>3</td>\n",
       "      <td>30.75</td>\n",
       "      <td>3</td>\n",
       "      <td>5</td>\n",
       "      <td>1</td>\n",
       "      <td>1</td>\n",
       "      <td>45</td>\n",
       "      <td>...</td>\n",
       "      <td>2162</td>\n",
       "      <td>0</td>\n",
       "      <td>78</td>\n",
       "      <td>5190</td>\n",
       "      <td>34.6450</td>\n",
       "      <td>0</td>\n",
       "      <td>0.0</td>\n",
       "      <td>123</td>\n",
       "      <td>10715</td>\n",
       "      <td>0</td>\n",
       "    </tr>\n",
       "    <tr>\n",
       "      <th>1</th>\n",
       "      <td>0</td>\n",
       "      <td>8</td>\n",
       "      <td>1</td>\n",
       "      <td>3</td>\n",
       "      <td>20.78</td>\n",
       "      <td>2</td>\n",
       "      <td>5</td>\n",
       "      <td>1</td>\n",
       "      <td>1</td>\n",
       "      <td>0</td>\n",
       "      <td>...</td>\n",
       "      <td>0</td>\n",
       "      <td>0</td>\n",
       "      <td>11</td>\n",
       "      <td>719</td>\n",
       "      <td>4.8191</td>\n",
       "      <td>0</td>\n",
       "      <td>0.0</td>\n",
       "      <td>31</td>\n",
       "      <td>3115</td>\n",
       "      <td>1</td>\n",
       "    </tr>\n",
       "    <tr>\n",
       "      <th>2</th>\n",
       "      <td>0</td>\n",
       "      <td>7</td>\n",
       "      <td>3</td>\n",
       "      <td>3</td>\n",
       "      <td>19.80</td>\n",
       "      <td>1</td>\n",
       "      <td>5</td>\n",
       "      <td>1</td>\n",
       "      <td>1</td>\n",
       "      <td>0</td>\n",
       "      <td>...</td>\n",
       "      <td>0</td>\n",
       "      <td>0</td>\n",
       "      <td>50</td>\n",
       "      <td>2665</td>\n",
       "      <td>14.1168</td>\n",
       "      <td>0</td>\n",
       "      <td>0.0</td>\n",
       "      <td>170</td>\n",
       "      <td>14807</td>\n",
       "      <td>0</td>\n",
       "    </tr>\n",
       "    <tr>\n",
       "      <th>3</th>\n",
       "      <td>0</td>\n",
       "      <td>8</td>\n",
       "      <td>2</td>\n",
       "      <td>3</td>\n",
       "      <td>21.67</td>\n",
       "      <td>1</td>\n",
       "      <td>9</td>\n",
       "      <td>1</td>\n",
       "      <td>1</td>\n",
       "      <td>0</td>\n",
       "      <td>...</td>\n",
       "      <td>0</td>\n",
       "      <td>0</td>\n",
       "      <td>65</td>\n",
       "      <td>7216</td>\n",
       "      <td>43.6824</td>\n",
       "      <td>0</td>\n",
       "      <td>0.0</td>\n",
       "      <td>25</td>\n",
       "      <td>3334</td>\n",
       "      <td>0</td>\n",
       "    </tr>\n",
       "    <tr>\n",
       "      <th>4</th>\n",
       "      <td>0</td>\n",
       "      <td>8</td>\n",
       "      <td>2</td>\n",
       "      <td>1</td>\n",
       "      <td>24.75</td>\n",
       "      <td>1</td>\n",
       "      <td>5</td>\n",
       "      <td>1</td>\n",
       "      <td>1</td>\n",
       "      <td>0</td>\n",
       "      <td>...</td>\n",
       "      <td>0</td>\n",
       "      <td>0</td>\n",
       "      <td>0</td>\n",
       "      <td>0</td>\n",
       "      <td>0.0000</td>\n",
       "      <td>0</td>\n",
       "      <td>0.0</td>\n",
       "      <td>0</td>\n",
       "      <td>0</td>\n",
       "      <td>0</td>\n",
       "    </tr>\n",
       "  </tbody>\n",
       "</table>\n",
       "<p>5 rows × 25 columns</p>\n",
       "</div>"
      ],
      "text/plain": [
       "   status  piano_tariff  metodo_pagamento  sesso  etacl  zona_attivaz  \\\n",
       "0       0             8                 3      3  30.75             3   \n",
       "1       0             8                 1      3  20.78             2   \n",
       "2       0             7                 3      3  19.80             1   \n",
       "3       0             8                 2      3  21.67             1   \n",
       "4       0             8                 2      1  24.75             1   \n",
       "\n",
       "   canale_attivaz  vas1  vas2  q01_out_ch_peak     ...      q01_in_dur_tot  \\\n",
       "0               5     1     1               45     ...                2162   \n",
       "1               5     1     1                0     ...                   0   \n",
       "2               5     1     1                0     ...                   0   \n",
       "3               9     1     1                0     ...                   0   \n",
       "4               5     1     1                0     ...                   0   \n",
       "\n",
       "   q01_ch_sms  q09_out_ch_peak  q09_out_dur_peak  q09_out_val_peak  \\\n",
       "0           0               78              5190           34.6450   \n",
       "1           0               11               719            4.8191   \n",
       "2           0               50              2665           14.1168   \n",
       "3           0               65              7216           43.6824   \n",
       "4           0                0                 0            0.0000   \n",
       "\n",
       "   q09_out_dur_offpeak  q09_out_val_offpeak  q09_in_ch_tot  q09_in_dur_tot  \\\n",
       "0                    0                  0.0            123           10715   \n",
       "1                    0                  0.0             31            3115   \n",
       "2                    0                  0.0            170           14807   \n",
       "3                    0                  0.0             25            3334   \n",
       "4                    0                  0.0              0               0   \n",
       "\n",
       "   q09_ch_sms  \n",
       "0           0  \n",
       "1           1  \n",
       "2           0  \n",
       "3           0  \n",
       "4           0  \n",
       "\n",
       "[5 rows x 25 columns]"
      ]
     },
     "execution_count": 4,
     "metadata": {},
     "output_type": "execute_result"
    }
   ],
   "source": [
    "#drop ID features\n",
    "dataset=dataset.drop('ID',axis=1)\n",
    "dataset.head(5)"
   ]
  },
  {
   "cell_type": "markdown",
   "metadata": {},
   "source": [
    "**Missing-data**"
   ]
  },
  {
   "cell_type": "code",
   "execution_count": null,
   "metadata": {},
   "outputs": [],
   "source": [
    "#check colonne con NA\n",
    "dataset.isnull().values.any()\n",
    "dataset.columns[dataset.isna().any()].tolist()\n",
    "\n",
    "#Imputo le colonne con NA\n",
    "from sklearn.preprocessing import Imputer\n",
    "#use the mean (or \"most_frequent\") of the other elements in the coluomn\n",
    "imputer = Imputer(missing_values = \"NaN\", strategy =\"mean\", axis = 0)#provare dopo con mediana\n",
    "#only on the coluomns where there are missing values\n",
    "imputer = imputer.fit(X[:, [1,3]])\n",
    "X[:, [1,3]] = imputer.transform(X[:, [1,3]])"
   ]
  },
  {
   "cell_type": "markdown",
   "metadata": {},
   "source": [
    "Utilizzo one Hot encoder per fare l'encoding delle variabili.\n",
    "\n",
    "**N.B: Se le variabili contengono valori negativi, ad esempio un livello (-1), devo prima ricategorizzarlo.Cosa che get dummies fa da sola.**\n",
    "\n",
    "Divido in $\\rightarrow$ $X$ ed $y$\n",
    "\n",
    "Faccio l'encoding delle seguenti features:\n",
    "\n",
    "* piano_tariff\n",
    "* metodo_pagamento\n",
    "* sesso\n",
    "* zona_attivaz\n",
    "* canale_attivaz\n",
    "* vas1\n",
    "* vas2"
   ]
  },
  {
   "cell_type": "code",
   "execution_count": 5,
   "metadata": {},
   "outputs": [
    {
     "data": {
      "text/html": [
       "<div>\n",
       "<style>\n",
       "    .dataframe thead tr:only-child th {\n",
       "        text-align: right;\n",
       "    }\n",
       "\n",
       "    .dataframe thead th {\n",
       "        text-align: left;\n",
       "    }\n",
       "\n",
       "    .dataframe tbody tr th {\n",
       "        vertical-align: top;\n",
       "    }\n",
       "</style>\n",
       "<table border=\"1\" class=\"dataframe\">\n",
       "  <thead>\n",
       "    <tr style=\"text-align: right;\">\n",
       "      <th></th>\n",
       "      <th>piano_tariff</th>\n",
       "      <th>metodo_pagamento</th>\n",
       "      <th>sesso</th>\n",
       "      <th>etacl</th>\n",
       "      <th>zona_attivaz</th>\n",
       "      <th>canale_attivaz</th>\n",
       "      <th>vas1</th>\n",
       "      <th>vas2</th>\n",
       "      <th>q01_out_ch_peak</th>\n",
       "      <th>q01_out_dur_peak</th>\n",
       "      <th>...</th>\n",
       "      <th>q01_in_dur_tot</th>\n",
       "      <th>q01_ch_sms</th>\n",
       "      <th>q09_out_ch_peak</th>\n",
       "      <th>q09_out_dur_peak</th>\n",
       "      <th>q09_out_val_peak</th>\n",
       "      <th>q09_out_dur_offpeak</th>\n",
       "      <th>q09_out_val_offpeak</th>\n",
       "      <th>q09_in_ch_tot</th>\n",
       "      <th>q09_in_dur_tot</th>\n",
       "      <th>q09_ch_sms</th>\n",
       "    </tr>\n",
       "  </thead>\n",
       "  <tbody>\n",
       "    <tr>\n",
       "      <th>0</th>\n",
       "      <td>8</td>\n",
       "      <td>3</td>\n",
       "      <td>3</td>\n",
       "      <td>30.75</td>\n",
       "      <td>3</td>\n",
       "      <td>5</td>\n",
       "      <td>1</td>\n",
       "      <td>1</td>\n",
       "      <td>45</td>\n",
       "      <td>2558</td>\n",
       "      <td>...</td>\n",
       "      <td>2162</td>\n",
       "      <td>0</td>\n",
       "      <td>78</td>\n",
       "      <td>5190</td>\n",
       "      <td>34.6450</td>\n",
       "      <td>0</td>\n",
       "      <td>0.0</td>\n",
       "      <td>123</td>\n",
       "      <td>10715</td>\n",
       "      <td>0</td>\n",
       "    </tr>\n",
       "    <tr>\n",
       "      <th>1</th>\n",
       "      <td>8</td>\n",
       "      <td>1</td>\n",
       "      <td>3</td>\n",
       "      <td>20.78</td>\n",
       "      <td>2</td>\n",
       "      <td>5</td>\n",
       "      <td>1</td>\n",
       "      <td>1</td>\n",
       "      <td>0</td>\n",
       "      <td>0</td>\n",
       "      <td>...</td>\n",
       "      <td>0</td>\n",
       "      <td>0</td>\n",
       "      <td>11</td>\n",
       "      <td>719</td>\n",
       "      <td>4.8191</td>\n",
       "      <td>0</td>\n",
       "      <td>0.0</td>\n",
       "      <td>31</td>\n",
       "      <td>3115</td>\n",
       "      <td>1</td>\n",
       "    </tr>\n",
       "    <tr>\n",
       "      <th>2</th>\n",
       "      <td>7</td>\n",
       "      <td>3</td>\n",
       "      <td>3</td>\n",
       "      <td>19.80</td>\n",
       "      <td>1</td>\n",
       "      <td>5</td>\n",
       "      <td>1</td>\n",
       "      <td>1</td>\n",
       "      <td>0</td>\n",
       "      <td>0</td>\n",
       "      <td>...</td>\n",
       "      <td>0</td>\n",
       "      <td>0</td>\n",
       "      <td>50</td>\n",
       "      <td>2665</td>\n",
       "      <td>14.1168</td>\n",
       "      <td>0</td>\n",
       "      <td>0.0</td>\n",
       "      <td>170</td>\n",
       "      <td>14807</td>\n",
       "      <td>0</td>\n",
       "    </tr>\n",
       "    <tr>\n",
       "      <th>3</th>\n",
       "      <td>8</td>\n",
       "      <td>2</td>\n",
       "      <td>3</td>\n",
       "      <td>21.67</td>\n",
       "      <td>1</td>\n",
       "      <td>9</td>\n",
       "      <td>1</td>\n",
       "      <td>1</td>\n",
       "      <td>0</td>\n",
       "      <td>0</td>\n",
       "      <td>...</td>\n",
       "      <td>0</td>\n",
       "      <td>0</td>\n",
       "      <td>65</td>\n",
       "      <td>7216</td>\n",
       "      <td>43.6824</td>\n",
       "      <td>0</td>\n",
       "      <td>0.0</td>\n",
       "      <td>25</td>\n",
       "      <td>3334</td>\n",
       "      <td>0</td>\n",
       "    </tr>\n",
       "    <tr>\n",
       "      <th>4</th>\n",
       "      <td>8</td>\n",
       "      <td>2</td>\n",
       "      <td>1</td>\n",
       "      <td>24.75</td>\n",
       "      <td>1</td>\n",
       "      <td>5</td>\n",
       "      <td>1</td>\n",
       "      <td>1</td>\n",
       "      <td>0</td>\n",
       "      <td>0</td>\n",
       "      <td>...</td>\n",
       "      <td>0</td>\n",
       "      <td>0</td>\n",
       "      <td>0</td>\n",
       "      <td>0</td>\n",
       "      <td>0.0000</td>\n",
       "      <td>0</td>\n",
       "      <td>0.0</td>\n",
       "      <td>0</td>\n",
       "      <td>0</td>\n",
       "      <td>0</td>\n",
       "    </tr>\n",
       "  </tbody>\n",
       "</table>\n",
       "<p>5 rows × 24 columns</p>\n",
       "</div>"
      ],
      "text/plain": [
       "   piano_tariff  metodo_pagamento  sesso  etacl  zona_attivaz  canale_attivaz  \\\n",
       "0             8                 3      3  30.75             3               5   \n",
       "1             8                 1      3  20.78             2               5   \n",
       "2             7                 3      3  19.80             1               5   \n",
       "3             8                 2      3  21.67             1               9   \n",
       "4             8                 2      1  24.75             1               5   \n",
       "\n",
       "   vas1  vas2  q01_out_ch_peak  q01_out_dur_peak     ...      q01_in_dur_tot  \\\n",
       "0     1     1               45              2558     ...                2162   \n",
       "1     1     1                0                 0     ...                   0   \n",
       "2     1     1                0                 0     ...                   0   \n",
       "3     1     1                0                 0     ...                   0   \n",
       "4     1     1                0                 0     ...                   0   \n",
       "\n",
       "   q01_ch_sms  q09_out_ch_peak  q09_out_dur_peak  q09_out_val_peak  \\\n",
       "0           0               78              5190           34.6450   \n",
       "1           0               11               719            4.8191   \n",
       "2           0               50              2665           14.1168   \n",
       "3           0               65              7216           43.6824   \n",
       "4           0                0                 0            0.0000   \n",
       "\n",
       "   q09_out_dur_offpeak  q09_out_val_offpeak  q09_in_ch_tot  q09_in_dur_tot  \\\n",
       "0                    0                  0.0            123           10715   \n",
       "1                    0                  0.0             31            3115   \n",
       "2                    0                  0.0            170           14807   \n",
       "3                    0                  0.0             25            3334   \n",
       "4                    0                  0.0              0               0   \n",
       "\n",
       "   q09_ch_sms  \n",
       "0           0  \n",
       "1           1  \n",
       "2           0  \n",
       "3           0  \n",
       "4           0  \n",
       "\n",
       "[5 rows x 24 columns]"
      ]
     },
     "execution_count": 5,
     "metadata": {},
     "output_type": "execute_result"
    }
   ],
   "source": [
    "dataset.drop('status',axis=1).head(5)"
   ]
  },
  {
   "cell_type": "code",
   "execution_count": 6,
   "metadata": {},
   "outputs": [],
   "source": [
    "#DIVIDO\n",
    "X=dataset.drop('status',axis=1).values\n",
    "y=dataset['status'].values"
   ]
  },
  {
   "cell_type": "code",
   "execution_count": 7,
   "metadata": {},
   "outputs": [],
   "source": [
    "from sklearn.preprocessing import OneHotEncoder\n",
    "onehotencoder=OneHotEncoder(categorical_features=[0,1,2,4,5,6,7])\n",
    "X=onehotencoder.fit_transform(X).toarray()"
   ]
  },
  {
   "cell_type": "markdown",
   "metadata": {},
   "source": [
    "A questo punto posso splittare il mio dataset ricodificato in train e test"
   ]
  },
  {
   "cell_type": "code",
   "execution_count": 8,
   "metadata": {},
   "outputs": [
    {
     "name": "stderr",
     "output_type": "stream",
     "text": [
      "/anaconda/lib/python3.6/site-packages/sklearn/cross_validation.py:41: DeprecationWarning: This module was deprecated in version 0.18 in favor of the model_selection module into which all the refactored classes and functions are moved. Also note that the interface of the new CV iterators are different from that of this module. This module will be removed in 0.20.\n",
      "  \"This module will be removed in 0.20.\", DeprecationWarning)\n"
     ]
    }
   ],
   "source": [
    "from sklearn.cross_validation import train_test_split\n",
    "X_train,X_test,y_train,y_test=train_test_split(X,y,test_size = 0.2, random_state = 0)"
   ]
  },
  {
   "cell_type": "markdown",
   "metadata": {},
   "source": [
    "Provo alcuni classificatori:\n",
    "+ Decision trees:\n",
    "    * Random Forest\n",
    "    * XGB\n",
    "    * Gradient Boosting\n",
    "+ Rete neurale\n",
    "+ logistic "
   ]
  },
  {
   "cell_type": "markdown",
   "metadata": {},
   "source": [
    "**Importo metriche di valutazione**"
   ]
  },
  {
   "cell_type": "code",
   "execution_count": 9,
   "metadata": {},
   "outputs": [],
   "source": [
    "from sklearn.metrics import accuracy_score,confusion_matrix,roc_curve,roc_auc_score"
   ]
  },
  {
   "cell_type": "markdown",
   "metadata": {},
   "source": [
    "**Random Forest Classifier**"
   ]
  },
  {
   "cell_type": "code",
   "execution_count": 10,
   "metadata": {},
   "outputs": [
    {
     "name": "stdout",
     "output_type": "stream",
     "text": [
      "Accuracy: 0.940306992609\n",
      "\n",
      "Confusion matrix:\n",
      "[[1026   51]\n",
      " [  54  628]]\n",
      "\n",
      "auc: 0.985707467408\n"
     ]
    },
    {
     "data": {
      "image/png": "[encoded data removed]",
      "text/plain": [
       "<Figure size 432x288 with 1 Axes>"
      ]
     },
     "metadata": {},
     "output_type": "display_data"
    }
   ],
   "source": [
    "from sklearn.ensemble import RandomForestClassifier\n",
    "\n",
    "RFC=RandomForestClassifier()\n",
    "RFC.fit(X_train,y_train)\n",
    "y_pred=RFC.predict(X_test)\n",
    "\n",
    "#calcolo accuracy\n",
    "accuracy=accuracy_score(y_pred,y_test)\n",
    "print('Accuracy: '+str(accuracy))\n",
    "print()\n",
    "print('Confusion matrix:')\n",
    "cm=confusion_matrix(y_pred,y_test)\n",
    "print(cm)\n",
    "\n",
    "y_pred_proba = RFC.predict_proba(X_test)[::,1]\n",
    "fpr, tpr, _ = roc_curve(y_test, y_pred_proba)\n",
    "auc = roc_auc_score(y_test, y_pred_proba)\n",
    "print()\n",
    "print(\"auc: \"+str(auc))\n",
    "plt.plot(fpr,tpr,label=\"auc=\"+str(auc))\n",
    "plt.xlabel('FPR')\n",
    "plt.ylabel('TPR')\n",
    "plt.title('ROC curve Random Forest')\n",
    "plt.legend(loc=4)\n",
    "plt.show()\n",
    "\n",
    "RF_out=[accuracy,auc]"
   ]
  },
  {
   "cell_type": "markdown",
   "metadata": {},
   "source": [
    "**XGB classifier**"
   ]
  },
  {
   "cell_type": "code",
   "execution_count": 11,
   "metadata": {},
   "outputs": [
    {
     "name": "stdout",
     "output_type": "stream",
     "text": [
      "Accuracy: 0.973848777715\n",
      "\n",
      "Confusion matrix:\n",
      "[[1049   15]\n",
      " [  31  664]]\n",
      "\n",
      "auc: 0.997214040255\n"
     ]
    },
    {
     "data": {
      "image/png": "[encoded data removed]",
      "text/plain": [
       "<Figure size 432x288 with 1 Axes>"
      ]
     },
     "metadata": {},
     "output_type": "display_data"
    }
   ],
   "source": [
    "from xgboost import XGBClassifier\n",
    "XGB = XGBClassifier()\n",
    "XGB.fit(X_train, y_train)\n",
    "y_pred=XGB.predict(X_test)\n",
    "\n",
    "\n",
    "#calcolo accuracy\n",
    "accuracy=accuracy_score(y_pred,y_test)\n",
    "print('Accuracy: '+str(accuracy))\n",
    "print()\n",
    "print('Confusion matrix:')\n",
    "cm=confusion_matrix(y_pred,y_test)\n",
    "print(cm)\n",
    "\n",
    "y_pred_proba = XGB.predict_proba(X_test)[::,1]\n",
    "fpr, tpr, _ = roc_curve(y_test, y_pred_proba)\n",
    "auc = roc_auc_score(y_test, y_pred_proba)\n",
    "print()\n",
    "print(\"auc: \"+str(auc))\n",
    "plt.plot(fpr,tpr,label=\"auc=\"+str(auc))\n",
    "plt.xlabel('FPR')\n",
    "plt.ylabel('TPR')\n",
    "plt.title('ROC curve XGB')\n",
    "plt.legend(loc=4)\n",
    "plt.show()\n",
    "\n",
    "XGB_out=[accuracy,auc]"
   ]
  },
  {
   "cell_type": "markdown",
   "metadata": {},
   "source": [
    "**Gradient Boosting classifier**"
   ]
  },
  {
   "cell_type": "code",
   "execution_count": 12,
   "metadata": {},
   "outputs": [
    {
     "name": "stdout",
     "output_type": "stream",
     "text": [
      "Accuracy: 0.973280272882\n",
      "\n",
      "Confusion matrix:\n",
      "[[1048   15]\n",
      " [  32  664]]\n",
      "\n",
      "auc: 0.997115856652\n"
     ]
    },
    {
     "data": {
      "image/png": "[encoded data removed]",
      "text/plain": [
       "<Figure size 432x288 with 1 Axes>"
      ]
     },
     "metadata": {},
     "output_type": "display_data"
    }
   ],
   "source": [
    "from sklearn.ensemble import GradientBoostingClassifier\n",
    "GradientBoosting= GradientBoostingClassifier()\n",
    "GradientBoosting.fit(X_train, y_train)\n",
    "y_pred=GradientBoosting.predict(X_test)\n",
    "\n",
    "\n",
    "#calcolo accuracy\n",
    "accuracy=accuracy_score(y_pred,y_test)\n",
    "print('Accuracy: '+str(accuracy))\n",
    "print()\n",
    "print('Confusion matrix:')\n",
    "cm=confusion_matrix(y_pred,y_test)\n",
    "print(cm)\n",
    "\n",
    "y_pred_proba = GradientBoosting.predict_proba(X_test)[::,1]\n",
    "fpr, tpr, _ = roc_curve(y_test, y_pred_proba)\n",
    "auc = roc_auc_score(y_test, y_pred_proba)\n",
    "print()\n",
    "print(\"auc: \"+str(auc))\n",
    "plt.plot(fpr,tpr,label=\"auc=\"+str(auc))\n",
    "plt.xlabel('FPR')\n",
    "plt.ylabel('TPR')\n",
    "plt.title('ROC curve Gradient Boosting')\n",
    "plt.legend(loc=4)\n",
    "plt.show()\n",
    "\n",
    "GB_out=[accuracy,auc]"
   ]
  },
  {
   "cell_type": "markdown",
   "metadata": {},
   "source": [
    "**RETE NEURALE**"
   ]
  },
  {
   "cell_type": "code",
   "execution_count": 1,
   "metadata": {},
   "outputs": [
    {
     "name": "stderr",
     "output_type": "stream",
     "text": [
      "Using TensorFlow backend.\n"
     ]
    }
   ],
   "source": [
    "from keras.models import Sequential\n",
    "from keras.layers import Dense, Activation\n",
    "from keras.layers import Dense, Dropout\n",
    "from keras.optimizers import Adam"
   ]
  },
  {
   "cell_type": "markdown",
   "metadata": {},
   "source": [
    "**Rete neurale**:\n",
    "+ input\n",
    "+ 3 hidden layer ciascuno formato da 8 neuroni\n",
    "+ output "
   ]
  },
  {
   "cell_type": "code",
   "execution_count": 2,
   "metadata": {},
   "outputs": [
    {
     "ename": "NameError",
     "evalue": "name 'X_train' is not defined",
     "output_type": "error",
     "traceback": [
      "\u001b[0;31m---------------------------------------------------------------------------\u001b[0m",
      "\u001b[0;31mNameError\u001b[0m                                 Traceback (most recent call last)",
      "\u001b[0;32m<ipython-input-2-21ba97a9523b>\u001b[0m in \u001b[0;36m<module>\u001b[0;34m()\u001b[0m\n\u001b[1;32m      1\u001b[0m \u001b[0mmodel\u001b[0m \u001b[0;34m=\u001b[0m \u001b[0mSequential\u001b[0m\u001b[0;34m(\u001b[0m\u001b[0;34m)\u001b[0m\u001b[0;34m\u001b[0m\u001b[0;34m\u001b[0m\u001b[0m\n\u001b[0;32m----> 2\u001b[0;31m \u001b[0mmodel\u001b[0m\u001b[0;34m.\u001b[0m\u001b[0madd\u001b[0m\u001b[0;34m(\u001b[0m\u001b[0mDense\u001b[0m\u001b[0;34m(\u001b[0m\u001b[0;36m8\u001b[0m\u001b[0;34m,\u001b[0m\u001b[0minput_dim\u001b[0m\u001b[0;34m=\u001b[0m\u001b[0mX_train\u001b[0m\u001b[0;34m.\u001b[0m\u001b[0mshape\u001b[0m\u001b[0;34m[\u001b[0m\u001b[0;36m1\u001b[0m\u001b[0;34m]\u001b[0m\u001b[0;34m,\u001b[0m\u001b[0mactivation\u001b[0m\u001b[0;34m=\u001b[0m\u001b[0;34m'relu'\u001b[0m\u001b[0;34m,\u001b[0m\u001b[0mkernel_initializer\u001b[0m\u001b[0;34m=\u001b[0m\u001b[0;34m'normal'\u001b[0m\u001b[0;34m)\u001b[0m\u001b[0;34m)\u001b[0m\u001b[0;34m\u001b[0m\u001b[0;34m\u001b[0m\u001b[0m\n\u001b[0m\u001b[1;32m      3\u001b[0m \u001b[0mmodel\u001b[0m\u001b[0;34m.\u001b[0m\u001b[0madd\u001b[0m\u001b[0;34m(\u001b[0m\u001b[0mDropout\u001b[0m\u001b[0;34m(\u001b[0m\u001b[0;36m0.3\u001b[0m\u001b[0;34m)\u001b[0m\u001b[0;34m)\u001b[0m\u001b[0;34m\u001b[0m\u001b[0;34m\u001b[0m\u001b[0m\n\u001b[1;32m      4\u001b[0m \u001b[0mmodel\u001b[0m\u001b[0;34m.\u001b[0m\u001b[0madd\u001b[0m\u001b[0;34m(\u001b[0m\u001b[0mDense\u001b[0m\u001b[0;34m(\u001b[0m\u001b[0;36m8\u001b[0m\u001b[0;34m,\u001b[0m\u001b[0mactivation\u001b[0m\u001b[0;34m=\u001b[0m\u001b[0;34m'relu'\u001b[0m\u001b[0;34m,\u001b[0m\u001b[0mkernel_initializer\u001b[0m\u001b[0;34m=\u001b[0m\u001b[0;34m'normal'\u001b[0m\u001b[0;34m)\u001b[0m\u001b[0;34m)\u001b[0m\u001b[0;34m\u001b[0m\u001b[0;34m\u001b[0m\u001b[0m\n\u001b[1;32m      5\u001b[0m \u001b[0mmodel\u001b[0m\u001b[0;34m.\u001b[0m\u001b[0madd\u001b[0m\u001b[0;34m(\u001b[0m\u001b[0mDropout\u001b[0m\u001b[0;34m(\u001b[0m\u001b[0;36m0.5\u001b[0m\u001b[0;34m)\u001b[0m\u001b[0;34m)\u001b[0m\u001b[0;34m\u001b[0m\u001b[0;34m\u001b[0m\u001b[0m\n",
      "\u001b[0;31mNameError\u001b[0m: name 'X_train' is not defined"
     ]
    }
   ],
   "source": [
    "model = Sequential()\n",
    "model.add(Dense(8,input_dim=X_train.shape[1],activation='relu',kernel_initializer='normal'))\n",
    "model.add(Dropout(0.3))\n",
    "model.add(Dense(8,activation='relu',kernel_initializer='normal'))\n",
    "model.add(Dropout(0.5))\n",
    "model.add(Dense(8,activation='relu',kernel_initializer='normal'))\n",
    "model.add(Dropout(0.5))\n",
    "model.add(Dense(1,activation='sigmoid'))\n",
    "\n",
    "adam=Adam(lr=0.001, beta_1=0.9, beta_2=0.999, epsilon=1e-08, decay=0.0)\n",
    "\n",
    "model.compile(loss='binary_crossentropy',\n",
    "              optimizer=adam,\n",
    "              metrics=['accuracy'])\n",
    "\n",
    "model.fit(X_train, y_train,epochs=200,batch_size=64)\n",
    "\n",
    "\n",
    "\n",
    "y_pred=model.predict(X_test)\n",
    "y_pred1=[]\n",
    "for i in range(0,len(y_pred)):\n",
    "    y_pred1.append(np.round(y_pred[i][0]))\n",
    "y_pred=np.array(y_pred1,dtype=np.int64)\n",
    "accuracy=accuracy_score(y_pred,y_test)\n",
    "print('accuracy: %s'%accuracy)\n",
    "print()\n",
    "print('confusion matrix: ')\n",
    "cm=confusion_matrix(y_pred,y_test)\n",
    "print(cm)\n",
    "\n",
    "nn_out=[accuracy,'NA']"
   ]
  },
  {
   "cell_type": "markdown",
   "metadata": {},
   "source": [
    "**Logistic Regression**"
   ]
  },
  {
   "cell_type": "code",
   "execution_count": 16,
   "metadata": {},
   "outputs": [
    {
     "name": "stdout",
     "output_type": "stream",
     "text": [
      "Accurcy: 0.861284820921\n",
      "\n",
      "Confusion matrix:\n",
      "[[981 145]\n",
      " [ 99 534]]\n",
      "\n",
      "auc: 0.928945071729\n"
     ]
    },
    {
     "data": {
      "image/png": "[encoded data removed]",
      "text/plain": [
       "<Figure size 432x288 with 1 Axes>"
      ]
     },
     "metadata": {},
     "output_type": "display_data"
    }
   ],
   "source": [
    "from sklearn.linear_model import LogisticRegression\n",
    "classifier = LogisticRegression(random_state = 0)\n",
    "classifier.fit(X_train, y_train)\n",
    "\n",
    "# Predicting the Test set results\n",
    "y_pred = classifier.predict(X_test)\n",
    "\n",
    "accuracy=accuracy_score(y_pred,y_test)\n",
    "print('Accurcy: '+str(accuracy))\n",
    "print()\n",
    "print('Confusion matrix:')\n",
    "cm=confusion_matrix(y_pred,y_test)\n",
    "print(cm)\n",
    "\n",
    "y_pred_proba = classifier.predict_proba(X_test)[::,1]\n",
    "fpr, tpr, _ = roc_curve(y_test, y_pred_proba)\n",
    "auc = roc_auc_score(y_test, y_pred_proba)\n",
    "print()\n",
    "print(\"auc: \"+str(auc))\n",
    "plt.plot(fpr,tpr,label=\"auc=\"+str(auc))\n",
    "plt.xlabel('FPR')\n",
    "plt.ylabel('TPR')\n",
    "plt.title('ROC curve XGB')\n",
    "plt.legend(loc=4)\n",
    "plt.show()\n",
    "\n",
    "logistic_out=[accuracy,auc]"
   ]
  },
  {
   "cell_type": "markdown",
   "metadata": {},
   "source": [
    "**Comparazione modelli**\n",
    "+\n",
    "+\n",
    "+\n",
    "+\n",
    "+\n",
    "\n",
    "\n",
    "\n",
    "\n",
    "\n"
   ]
  },
  {
   "cell_type": "code",
   "execution_count": 21,
   "metadata": {},
   "outputs": [
    {
     "data": {
      "text/html": [
       "<div>\n",
       "<style>\n",
       "    .dataframe thead tr:only-child th {\n",
       "        text-align: right;\n",
       "    }\n",
       "\n",
       "    .dataframe thead th {\n",
       "        text-align: left;\n",
       "    }\n",
       "\n",
       "    .dataframe tbody tr th {\n",
       "        vertical-align: top;\n",
       "    }\n",
       "</style>\n",
       "<table border=\"1\" class=\"dataframe\">\n",
       "  <thead>\n",
       "    <tr style=\"text-align: right;\">\n",
       "      <th></th>\n",
       "      <th>Random Forest</th>\n",
       "      <th>XGB</th>\n",
       "      <th>Gradient boosting</th>\n",
       "      <th>Neural network</th>\n",
       "      <th>Logistic</th>\n",
       "    </tr>\n",
       "    <tr>\n",
       "      <th>metrics</th>\n",
       "      <th></th>\n",
       "      <th></th>\n",
       "      <th></th>\n",
       "      <th></th>\n",
       "      <th></th>\n",
       "    </tr>\n",
       "  </thead>\n",
       "  <tbody>\n",
       "    <tr>\n",
       "      <th>accuracy</th>\n",
       "      <td>0.940307</td>\n",
       "      <td>0.973849</td>\n",
       "      <td>0.973280</td>\n",
       "      <td>0.870949</td>\n",
       "      <td>0.861285</td>\n",
       "    </tr>\n",
       "    <tr>\n",
       "      <th>auc</th>\n",
       "      <td>0.985707</td>\n",
       "      <td>0.997214</td>\n",
       "      <td>0.997116</td>\n",
       "      <td>NA</td>\n",
       "      <td>0.928945</td>\n",
       "    </tr>\n",
       "  </tbody>\n",
       "</table>\n",
       "</div>"
      ],
      "text/plain": [
       "          Random Forest       XGB  Gradient boosting Neural network  Logistic\n",
       "metrics                                                                      \n",
       "accuracy       0.940307  0.973849           0.973280       0.870949  0.861285\n",
       "auc            0.985707  0.997214           0.997116             NA  0.928945"
      ]
     },
     "execution_count": 21,
     "metadata": {},
     "output_type": "execute_result"
    }
   ],
   "source": [
    "compare=pd.DataFrame(list(zip(RF_out, XGB_out, GB_out,nn_out,logistic_out)),\n",
    "                     index=pd.Series(['accuracy','auc'], name='metrics'),\n",
    "              columns=['Random Forest','XGB', 'Gradient boosting','Neural network','Logistic'])\n",
    "compare"
   ]
  },
  {
   "cell_type": "markdown",
   "metadata": {},
   "source": [
    "### Balancing the data (TRAIN)"
   ]
  },
  {
   "cell_type": "code",
   "execution_count": 22,
   "metadata": {},
   "outputs": [
    {
     "name": "stdout",
     "output_type": "stream",
     "text": [
      "2672\n",
      "4361\n"
     ]
    }
   ],
   "source": [
    "lab=[i for i in y_train]\n",
    "zero=0\n",
    "uno=0\n",
    "for i in lab:\n",
    "    if i==0:\n",
    "        zero+=1\n",
    "    elif i==1:\n",
    "        uno+=1\n",
    "print(uno)\n",
    "print(zero)"
   ]
  },
  {
   "cell_type": "markdown",
   "metadata": {},
   "source": [
    "Essendo che nella target label sembra esserci una divisione non equa tra \"zeri\" ed \"uno\", si potrebbe applicare un algoritmo di oversampling, portando cosi ad una equità tra le labels.\n",
    "\n",
    "I cosiddetti “Unbalanced data” si riferiscono in genere a problemi di classificazione in cui le classi non sono rappresentate allo stesso modo.\n",
    "\n",
    "Infatti nella maggior parte dei dataset riguardanti ‘classificazione’ non si ha esattamente un numero uguale di istanze in ogni classe.\n",
    "\n",
    "DATASET che hanno questo problema sono ad esempio quelli riguardanti transazioni fraudolente, dove la stragrande maggioranza delle transazioni sarà nella classe “Non-Fraud” e una piccola minoranza sarà nella classe “Fraud”, oppure casi di set di dati come questi, nei quali la maggior parte dei consumatori risulta essere un cliente ‘REGOLARE’.\n",
    "\n",
    "È possibile quindi modificare il dataset che si utilizza per avere dati più bilanciati. Questo approccio è chiamato campionamento del set di dati, e ci sono due metodi principali che è possibile utilizzare per uniformare le classi:\n",
    "+ aggiungere copie di istanze dalla classe sottorappresentata denominata sovracampionamento \n",
    "+ eliminare le istanze dalla classe sovrarappresentata, chiamata sottocampionamento.\n",
    "\n",
    "Ho usato il secondo metodo, mediante l’utilizzo di un algoritmo di OVER-SAMPLING chiamato **SMOTE** (*Synthetic Minority Over-sampling Technique*), in modo tale che il numero di record per ogni tipo di target (0,1) fosse uguale.\n",
    "\n",
    "**N.B: questa tecnica viene ovviamente applicata solo al TRAIN in modo tale che l'algoritmo apprenda meglio.**"
   ]
  },
  {
   "cell_type": "code",
   "execution_count": 23,
   "metadata": {},
   "outputs": [
    {
     "name": "stdout",
     "output_type": "stream",
     "text": [
      "label 1: 4361\n",
      "label 0: 4361\n"
     ]
    },
    {
     "name": "stderr",
     "output_type": "stream",
     "text": [
      "/anaconda/lib/python3.6/site-packages/sklearn/utils/deprecation.py:75: DeprecationWarning: Function _ratio_float is deprecated; Use a float for 'ratio' is deprecated from version 0.2. The support will be removed in 0.4. Use a dict, str, or a callable instead.\n",
      "  warnings.warn(msg, category=DeprecationWarning)\n"
     ]
    }
   ],
   "source": [
    "from imblearn.over_sampling import SMOTE\n",
    "from sklearn.externals.joblib.parallel import _backend\n",
    "\n",
    "sm = SMOTE(random_state=0, ratio = 1.0)\n",
    "X_train, y_train = sm.fit_sample(X_train, y_train)\n",
    "\n",
    "\n",
    "\n",
    "lab=[i for i in y_train]\n",
    "zero=0\n",
    "uno=0\n",
    "for i in lab:\n",
    "    if i==0:\n",
    "        zero+=1\n",
    "    elif i==1:\n",
    "        uno+=1\n",
    "print('label 1: %s'%uno)\n",
    "print('label 0: %s'%zero)\n",
    "\n",
    "\n",
    "# Feature Scaling\n",
    "from sklearn.preprocessing import StandardScaler\n",
    "#scale the X coloumns\n",
    "sc_X = StandardScaler()\n",
    "#for the training set we need to fit it, then scale it\n",
    "X_train = sc_X.fit_transform(X_train)\n",
    "X_test = sc_X.transform(X_test)\n",
    "\n"
   ]
  },
  {
   "cell_type": "markdown",
   "metadata": {},
   "source": [
    "**BALANCE Random Forest**"
   ]
  },
  {
   "cell_type": "code",
   "execution_count": 24,
   "metadata": {},
   "outputs": [
    {
     "name": "stdout",
     "output_type": "stream",
     "text": [
      "Accuracy: 0.942012507106\n",
      "\n",
      "Confusion matrix:\n",
      "[[1036   58]\n",
      " [  44  621]]\n",
      "\n",
      "auc: 0.982336497027\n"
     ]
    },
    {
     "data": {
      "image/png": "[encoded data removed]",
      "text/plain": [
       "<Figure size 432x288 with 1 Axes>"
      ]
     },
     "metadata": {},
     "output_type": "display_data"
    }
   ],
   "source": [
    "from sklearn.ensemble import RandomForestClassifier\n",
    "\n",
    "RFC=RandomForestClassifier()\n",
    "RFC.fit(X_train,y_train)\n",
    "y_pred=RFC.predict(X_test)\n",
    "\n",
    "#calcolo accuracy\n",
    "accuracy=accuracy_score(y_pred,y_test)\n",
    "print('Accuracy: '+str(accuracy))\n",
    "print()\n",
    "print('Confusion matrix:')\n",
    "cm=confusion_matrix(y_pred,y_test)\n",
    "print(cm)\n",
    "\n",
    "y_pred_proba = RFC.predict_proba(X_test)[::,1]\n",
    "fpr, tpr, _ = roc_curve(y_test, y_pred_proba)\n",
    "auc = roc_auc_score(y_test, y_pred_proba)\n",
    "print()\n",
    "print(\"auc: \"+str(auc))\n",
    "plt.plot(fpr,tpr,label=\"auc=\"+str(auc))\n",
    "plt.xlabel('FPR')\n",
    "plt.ylabel('TPR')\n",
    "plt.title('ROC curve Random Forest')\n",
    "plt.legend(loc=4)\n",
    "plt.show()"
   ]
  },
  {
   "cell_type": "markdown",
   "metadata": {},
   "source": [
    "**BALANCE Gradient Boosting**"
   ]
  },
  {
   "cell_type": "code",
   "execution_count": 25,
   "metadata": {},
   "outputs": [
    {
     "name": "stdout",
     "output_type": "stream",
     "text": [
      "Accuracy: 0.974985787379\n",
      "\n",
      "Confusion matrix:\n",
      "[[1046   10]\n",
      " [  34  669]]\n",
      "\n",
      "auc: 0.997312223859\n"
     ]
    },
    {
     "data": {
      "image/png": "[encoded data removed]",
      "text/plain": [
       "<Figure size 432x288 with 1 Axes>"
      ]
     },
     "metadata": {},
     "output_type": "display_data"
    }
   ],
   "source": [
    "from sklearn.ensemble import GradientBoostingClassifier\n",
    "GradientBoosting= GradientBoostingClassifier()\n",
    "GradientBoosting.fit(X_train, y_train)\n",
    "y_pred=GradientBoosting.predict(X_test)\n",
    "\n",
    "\n",
    "#calcolo accuracy\n",
    "accuracy=accuracy_score(y_pred,y_test)\n",
    "print('Accuracy: '+str(accuracy))\n",
    "print()\n",
    "print('Confusion matrix:')\n",
    "cm=confusion_matrix(y_pred,y_test)\n",
    "print(cm)\n",
    "\n",
    "y_pred_proba = GradientBoosting.predict_proba(X_test)[::,1]\n",
    "fpr, tpr, _ = roc_curve(y_test, y_pred_proba)\n",
    "auc = roc_auc_score(y_test, y_pred_proba)\n",
    "print()\n",
    "print(\"auc: \"+str(auc))\n",
    "plt.plot(fpr,tpr,label=\"auc=\"+str(auc))\n",
    "plt.xlabel('FPR')\n",
    "plt.ylabel('TPR')\n",
    "plt.title('ROC curve Gradient Boosting')\n",
    "plt.legend(loc=4)\n",
    "plt.show()"
   ]
  },
  {
   "cell_type": "markdown",
   "metadata": {},
   "source": [
    "**BALANCE XGB Classifier**"
   ]
  },
  {
   "cell_type": "code",
   "execution_count": 34,
   "metadata": {},
   "outputs": [
    {
     "name": "stdout",
     "output_type": "stream",
     "text": [
      "Accuracy: 0.973280272882\n",
      "\n",
      "Confusion matrix:\n",
      "[[1042    9]\n",
      " [  38  670]]\n",
      "\n",
      "auc: 0.997415862107\n"
     ]
    },
    {
     "data": {
      "image/png": "[encoded data removed]",
      "text/plain": [
       "<Figure size 432x288 with 1 Axes>"
      ]
     },
     "metadata": {},
     "output_type": "display_data"
    }
   ],
   "source": [
    "from xgboost import XGBClassifier\n",
    "XGB = XGBClassifier()\n",
    "XGB.fit(X_train, y_train)\n",
    "y_pred=XGB.predict(X_test)\n",
    "\n",
    "\n",
    "#calcolo accuracy\n",
    "accuracy=accuracy_score(y_pred,y_test)\n",
    "print('Accuracy: '+str(accuracy))\n",
    "print()\n",
    "print('Confusion matrix:')\n",
    "cm=confusion_matrix(y_pred,y_test)\n",
    "print(cm)\n",
    "\n",
    "y_pred_proba = XGB.predict_proba(X_test)[::,1]\n",
    "fpr, tpr, _ = roc_curve(y_test, y_pred_proba)\n",
    "auc = roc_auc_score(y_test, y_pred_proba)\n",
    "print()\n",
    "print(\"auc: \"+str(auc))\n",
    "plt.plot(fpr,tpr,label=\"auc=\"+str(auc))\n",
    "plt.xlabel('FPR')\n",
    "plt.ylabel('TPR')\n",
    "plt.title('ROC curve XGB')\n",
    "plt.legend(loc=4)\n",
    "plt.show()"
   ]
  },
  {
   "cell_type": "markdown",
   "metadata": {},
   "source": [
    "**in conclusione possiamo dire che il bilanciamento e lo scaling delle variabili non ha portato nessun beneficio.\n",
    "Non ci rimane dunque che andare a vedere le tabelle attraverso il quale possiamo fare il confronto**"
   ]
  },
  {
   "cell_type": "code",
   "execution_count": 26,
   "metadata": {},
   "outputs": [
    {
     "data": {
      "text/html": [
       "<div>\n",
       "<style>\n",
       "    .dataframe thead tr:only-child th {\n",
       "        text-align: right;\n",
       "    }\n",
       "\n",
       "    .dataframe thead th {\n",
       "        text-align: left;\n",
       "    }\n",
       "\n",
       "    .dataframe tbody tr th {\n",
       "        vertical-align: top;\n",
       "    }\n",
       "</style>\n",
       "<table border=\"1\" class=\"dataframe\">\n",
       "  <thead>\n",
       "    <tr style=\"text-align: right;\">\n",
       "      <th></th>\n",
       "      <th>Random Forest</th>\n",
       "      <th>XGB</th>\n",
       "      <th>Gradient boosting</th>\n",
       "      <th>Neural network</th>\n",
       "      <th>Logistic</th>\n",
       "    </tr>\n",
       "    <tr>\n",
       "      <th>metrics</th>\n",
       "      <th></th>\n",
       "      <th></th>\n",
       "      <th></th>\n",
       "      <th></th>\n",
       "      <th></th>\n",
       "    </tr>\n",
       "  </thead>\n",
       "  <tbody>\n",
       "    <tr>\n",
       "      <th>accuracy</th>\n",
       "      <td>0.940307</td>\n",
       "      <td>0.973849</td>\n",
       "      <td>0.973280</td>\n",
       "      <td>0.870949</td>\n",
       "      <td>0.861285</td>\n",
       "    </tr>\n",
       "    <tr>\n",
       "      <th>auc</th>\n",
       "      <td>0.985707</td>\n",
       "      <td>0.997214</td>\n",
       "      <td>0.997116</td>\n",
       "      <td>NA</td>\n",
       "      <td>0.928945</td>\n",
       "    </tr>\n",
       "  </tbody>\n",
       "</table>\n",
       "</div>"
      ],
      "text/plain": [
       "          Random Forest       XGB  Gradient boosting Neural network  Logistic\n",
       "metrics                                                                      \n",
       "accuracy       0.940307  0.973849           0.973280       0.870949  0.861285\n",
       "auc            0.985707  0.997214           0.997116             NA  0.928945"
      ]
     },
     "execution_count": 26,
     "metadata": {},
     "output_type": "execute_result"
    }
   ],
   "source": [
    "compare"
   ]
  },
  {
   "cell_type": "markdown",
   "metadata": {},
   "source": [
    "**Si evince chiaramente come i modelli migliori siano:**\n",
    "\n",
    "+ XGB\n",
    "+ Gradient Boosting\n",
    "\n",
    "Anche se di poco l'XGB risulta più performante, soprattutto in termini di **velocità**."
   ]
  },
  {
   "cell_type": "markdown",
   "metadata": {},
   "source": [
    "### NEL CASO DI CROSS VALIDATION"
   ]
  },
  {
   "cell_type": "code",
   "execution_count": null,
   "metadata": {},
   "outputs": [],
   "source": [
    "from sklearn.cross_validation import cross_val_score\n",
    "RFC = GradientBoostingClassifier(loss=\"exponential\",learning_rate = .2, \n",
    "                                  n_estimators = 2000,max_depth=1,min_samples_leaf=15,min_samples_split=40)\n",
    "y_pred = RFC.fit(X_train, y_train).predict(X_test)\n",
    "cv_score = cross_val_score(RFC, X_test, y_test, scoring = 'accuracy', cv = 5)\n",
    "print('CV Model Accuracy :' , cv_score.mean())\n",
    "print(\"Number of mislabeled points out of a total %d points : %d\" % (X_test.shape[0],(y_test != y_pred).sum()))\n"
   ]
  }
 ],
 "metadata": {
  "kernelspec": {
   "display_name": "Python 3",
   "language": "python",
   "name": "python3"
  },
  "language_info": {
   "codemirror_mode": {
    "name": "ipython",
    "version": 3
   },
   "file_extension": ".py",
   "mimetype": "text/x-python",
   "name": "python",
   "nbconvert_exporter": "python",
   "pygments_lexer": "ipython3",
   "version": "3.6.8"
  }
 },
 "nbformat": 4,
 "nbformat_minor": 2
}
